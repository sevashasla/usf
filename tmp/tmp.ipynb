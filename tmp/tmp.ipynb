{
 "cells": [
  {
   "cell_type": "code",
   "execution_count": 1,
   "metadata": {},
   "outputs": [],
   "source": [
    "import cv2\n",
    "import numpy as np\n",
    "import matplotlib.pyplot as plt\n",
    "import seaborn as sns\n",
    "import plotly\n",
    "from plotly import graph_objects as go\n",
    "from plotly import express as px\n",
    "import imageio\n",
    "import json"
   ]
  },
  {
   "cell_type": "code",
   "execution_count": 2,
   "metadata": {},
   "outputs": [],
   "source": [
    "import torch\n",
    "import torch.nn as nn\n",
    "import torch.nn.functional as F"
   ]
  },
  {
   "cell_type": "code",
   "execution_count": 65,
   "metadata": {},
   "outputs": [],
   "source": [
    "import yaml\n",
    "from types import SimpleNamespace\n",
    "from collections.abc import Iterable"
   ]
  },
  {
   "cell_type": "code",
   "execution_count": 264,
   "metadata": {},
   "outputs": [],
   "source": [
    "def plot_poses(poses, k=0.3, text=None, marker_color=None, fontsize=None, only_points=False):\n",
    "    '''\n",
    "        Draw camera position with plotly\n",
    "        :param poses - np.ndarray [N, 4, 4]\n",
    "            cam2world\n",
    "        :param k - float or np.ndarray.\n",
    "            length of the axis. default = 0.3\n",
    "    '''\n",
    "    # distance to point from (0, 0, 0)\n",
    "    r = poses if only_points else poses[..., -1][:, [0, 1, 2]]\n",
    "\n",
    "    # plot all origins\n",
    "    fig = go.Figure(\n",
    "        go.Scatter3d(\n",
    "            x=r[:, 0], \n",
    "            y=r[:, 1], \n",
    "            z=r[:, 2], \n",
    "            marker=dict(size=3, color=marker_color),\n",
    "            text=text,\n",
    "            mode=\"markers+text\",\n",
    "            textfont=dict(\n",
    "            size=fontsize,\n",
    "            ),\n",
    "        )\n",
    "    )\n",
    "\n",
    "    def plot_segment(begin, delta, k, color):\n",
    "        '''\n",
    "            Function to plot segment in plotly\n",
    "        '''\n",
    "        end = begin + k * delta\n",
    "        return go.Scatter3d(\n",
    "                x=[begin[0], end[0]], \n",
    "                y=[begin[1], end[1]], \n",
    "                z=[begin[2], end[2]], \n",
    "                line=dict(\n",
    "                    color=color,\n",
    "                    width=2\n",
    "                ),\n",
    "                mode=\"lines\"\n",
    "            )\n",
    "\n",
    "    if isinstance(k, Iterable):\n",
    "        kx = k[0]\n",
    "        ky = k[1]\n",
    "        kz = k[2]\n",
    "    else:\n",
    "        kx = ky = kz = k\n",
    "\n",
    "    if not only_points:\n",
    "        for pos in poses:\n",
    "            xax = pos[:3, 0]\n",
    "            yax = pos[:3, 1]\n",
    "            zax = pos[:3, 2]\n",
    "            point_begin = pos[:3, 3]\n",
    "            fig.add_trace(plot_segment(point_begin, xax, kx, \"red\"))\n",
    "            fig.add_trace(plot_segment(point_begin, yax, ky, \"green\"))\n",
    "            fig.add_trace(plot_segment(point_begin, zax, kz, \"blue\"))\n",
    "\n",
    "    # fig.update_traces(marker_size=3)\n",
    "    return fig"
   ]
  },
  {
   "cell_type": "code",
   "execution_count": 4,
   "metadata": {},
   "outputs": [],
   "source": [
    "def qvec2rotmat(qvec):\n",
    "    return np.array([\n",
    "        [\n",
    "            1 - 2 * qvec[2]**2 - 2 * qvec[3]**2,\n",
    "            2 * qvec[1] * qvec[2] - 2 * qvec[0] * qvec[3],\n",
    "            2 * qvec[3] * qvec[1] + 2 * qvec[0] * qvec[2]\n",
    "        ], [\n",
    "            2 * qvec[1] * qvec[2] + 2 * qvec[0] * qvec[3],\n",
    "            1 - 2 * qvec[1]**2 - 2 * qvec[3]**2,\n",
    "            2 * qvec[2] * qvec[3] - 2 * qvec[0] * qvec[1]\n",
    "        ], [\n",
    "            2 * qvec[3] * qvec[1] - 2 * qvec[0] * qvec[2],\n",
    "            2 * qvec[2] * qvec[3] + 2 * qvec[0] * qvec[1],\n",
    "            1 - 2 * qvec[1]**2 - 2 * qvec[2]**2\n",
    "        ]\n",
    "    ])\n",
    "\n",
    "def rotmat(a, b):\n",
    "\ta, b = a / np.linalg.norm(a), b / np.linalg.norm(b)\n",
    "\tv = np.cross(a, b)\n",
    "\tc = np.dot(a, b)\n",
    "\t# handle exception for the opposite direction input\n",
    "\tif c < -1 + 1e-10:\n",
    "\t\treturn rotmat(a + np.random.uniform(-1e-2, 1e-2, 3), b)\n",
    "\ts = np.linalg.norm(v)\n",
    "\tkmat = np.array([[0, -v[2], v[1]], [v[2], 0, -v[0]], [-v[1], v[0], 0]])\n",
    "\treturn np.eye(3) + kmat + kmat.dot(kmat) * ((1 - c) / (s ** 2 + 1e-10))\n",
    "\n",
    "def closest_point_2_lines(oa, da, ob, db): # returns point closest to both rays of form o+t*d, and a weight factor that goes to 0 if the lines are parallel\n",
    "    da = da / np.linalg.norm(da)\n",
    "    db = db / np.linalg.norm(db)\n",
    "    c = np.cross(da, db)\n",
    "    denom = np.linalg.norm(c)**2\n",
    "    t = ob - oa\n",
    "    ta = np.linalg.det([t, db, c]) / (denom + 1e-10)\n",
    "    tb = np.linalg.det([t, da, c]) / (denom + 1e-10)\n",
    "    if ta > 0:\n",
    "        ta = 0\n",
    "    if tb > 0:\n",
    "        tb = 0\n",
    "    return (oa+ta*da+ob+tb*db) * 0.5, denom"
   ]
  },
  {
   "cell_type": "code",
   "execution_count": 51,
   "metadata": {},
   "outputs": [],
   "source": [
    "poses_colmap = []\n",
    "poses_colmap_names = []\n",
    "with open(\"/home/sevashasla/coding/datasets/tools_all/colmap_text/images.txt\", \"r\") as f:\n",
    "    i = 0\n",
    "\n",
    "    bottom = np.array([0.0, 0.0, 0.0, 1.0]).reshape([1, 4])\n",
    "\n",
    "    frames = []\n",
    "\n",
    "    up = np.zeros(3)\n",
    "    for line in f:\n",
    "        line = line.strip()\n",
    "\n",
    "        if line[0] == \"#\":\n",
    "            continue\n",
    "\n",
    "        i = i + 1\n",
    "\n",
    "        if i % 2 == 1:\n",
    "            elems = line.split(\" \") # 1-4 is quat, 5-7 is trans, 9ff is filename (9, if filename contains no spaces)\n",
    "\n",
    "            name = '_'.join(elems[9:])\n",
    "            \n",
    "            poses_colmap_names.append(name.split(\"_\")[0] + \"/\" + \"_\".join(name.split(\"_\")[1:]))\n",
    "\n",
    "            image_id = int(elems[0])\n",
    "            qvec = np.array(tuple(map(float, elems[1:5])))\n",
    "            tvec = np.array(tuple(map(float, elems[5:8])))\n",
    "            R = qvec2rotmat(-qvec)\n",
    "            t = tvec.reshape([3, 1])\n",
    "            m = np.concatenate([np.concatenate([R, t], 1), bottom], 0)\n",
    "            c2w = np.linalg.inv(m)\n",
    "            poses_colmap.append(c2w)\n",
    "poses_colmap = np.array(poses_colmap)\n",
    "r_colmap = poses_colmap[..., -1][:, [0, 1, 2]]"
   ]
  },
  {
   "cell_type": "code",
   "execution_count": 52,
   "metadata": {},
   "outputs": [],
   "source": [
    "# poses_colmap = []\n",
    "# poses_colmap_names = []\n",
    "# with open(\"/home/sevashasla/coding/datasets/tools_all/transforms_test.json\") as f:\n",
    "#     data = json.load(f)\n",
    "#     poses_colmap.extend([el['transform_matrix'] for el in data['frames']])\n",
    "#     # poses_colmap_names.extend([el['transform_matrix'] for el in data['frames']])\n",
    "\n",
    "# with open(\"/home/sevashasla/coding/datasets/tools_all/transforms_train.json\") as f:\n",
    "#     data = json.load(f)\n",
    "#     poses_colmap.extend([el['transform_matrix'] for el in data['frames']])\n",
    "\n",
    "# with open(\"/home/sevashasla/coding/datasets/tools_all/transforms_val.json\") as f:\n",
    "#     data = json.load(f)\n",
    "#     poses_colmap.extend([el['transform_matrix'] for el in data['frames']])\n",
    "# poses_colmap = np.array(poses_colmap)\n",
    "# r_colmap = poses_colmap[..., -1][:, [0, 1, 2]]"
   ]
  },
  {
   "cell_type": "code",
   "execution_count": 53,
   "metadata": {},
   "outputs": [],
   "source": [
    "poses_my = []\n",
    "poses_my_names = []\n",
    "with open(\"/home/sevashasla/coding/datasets/tools/transforms/transforms_train.json\") as f:\n",
    "    data = json.load(f)\n",
    "    poses_my.extend([el['transform_matrix'] for el in data['frames']])\n",
    "    poses_my_names.extend([el['file_path'] for el in data['frames']])\n",
    "\n",
    "with open(\"/home/sevashasla/coding/datasets/tools/transforms/transforms_test.json\") as f:\n",
    "    data = json.load(f)\n",
    "    poses_my.extend([el['transform_matrix'] for el in data['frames']])\n",
    "    poses_my_names.extend([el['file_path'] for el in data['frames']])\n",
    "\n",
    "with open(\"/home/sevashasla/coding/datasets/tools/transforms/transforms_val.json\") as f:\n",
    "    data = json.load(f)\n",
    "    poses_my.extend([el['transform_matrix'] for el in data['frames']])\n",
    "    poses_my_names.extend([el['file_path'] for el in data['frames']])\n",
    "poses_my = np.array(poses_my)\n",
    "# poses_my = poses_my @ np.linalg.inv(np.array([\n",
    "#             [1, 0, 0, -0.03284863],\n",
    "#             [0, 1, 0, -0.08],\n",
    "#             [0, 0, 1, -0.08414625],\n",
    "#             [0, 0, 0, 1],\n",
    "#         ]))\n",
    "r_my = poses_my[..., -1][:, [0, 1, 2]]"
   ]
  },
  {
   "cell_type": "code",
   "execution_count": null,
   "metadata": {},
   "outputs": [],
   "source": [
    "plot_poses(poses_colmap, k=np.array([0.6, 0.6, 0.3]), text=poses_colmap_names, fontsize=8)"
   ]
  },
  {
   "cell_type": "code",
   "execution_count": null,
   "metadata": {},
   "outputs": [],
   "source": [
    "plot_poses(poses_my, k=[0.03, 0.03, 0.03], text=poses_my_names, fontsize=8)"
   ]
  },
  {
   "cell_type": "markdown",
   "metadata": {},
   "source": [
    "### Теперь посмотрим на преобразованные"
   ]
  },
  {
   "cell_type": "code",
   "execution_count": 186,
   "metadata": {},
   "outputs": [],
   "source": [
    "poses_colmap = []\n",
    "poses_colmap_names = []\n",
    "change_name = lambda x: x[4:].split(\"_\")[0] + \"/\" + \"_\".join(x[4:].split(\"_\")[1:])\n",
    "with open(\"/home/sevashasla/coding/datasets/tools_all/transforms.json\") as f:\n",
    "    data = json.load(f)\n",
    "    poses_colmap.extend([el['transform_matrix'] for el in data['frames']])\n",
    "    poses_colmap_names.extend([change_name(el['file_path']) for el in data['frames']])\n",
    "poses_colmap = np.array(poses_colmap)\n",
    "\n",
    "bad_idx = poses_colmap_names.index(\"test/r_0.png\")\n",
    "\n",
    "poses_colmap = np.delete(poses_colmap, bad_idx, axis=0)\n",
    "del poses_colmap_names[bad_idx]\n",
    "\n",
    "r_colmap = poses_colmap[..., -1][:, [0, 1, 2]]"
   ]
  },
  {
   "cell_type": "code",
   "execution_count": 276,
   "metadata": {},
   "outputs": [],
   "source": [
    "poses_my = []\n",
    "poses_my_names = []\n",
    "with open(\"/home/sevashasla/coding/datasets/tools/transforms.json\") as f:\n",
    "    data = json.load(f)\n",
    "    poses_my.extend([el['transform_matrix'] for el in data['frames']])\n",
    "    poses_my_names.extend([el['file_path'] for el in data['frames']])\n",
    "\n",
    "poses_my = np.array(poses_my)\n",
    "# poses_my = poses_my @ np.linalg.inv(np.array([\n",
    "#             [1, 0, 0, -0.03284863],\n",
    "#             [0, 1, 0, -0.08],\n",
    "#             [0, 0, 1, -0.08414625],\n",
    "#             [0, 0, 0, 1],\n",
    "#         ]))\n",
    "r_my = poses_my[..., -1][:, [0, 1, 2]]"
   ]
  },
  {
   "cell_type": "markdown",
   "metadata": {},
   "source": [
    "### Попробуем понять, как отличаются позы"
   ]
  },
  {
   "cell_type": "code",
   "execution_count": 277,
   "metadata": {},
   "outputs": [],
   "source": [
    "import open3d as o3d\n",
    "import copy\n",
    "import scipy"
   ]
  },
  {
   "cell_type": "code",
   "execution_count": 278,
   "metadata": {},
   "outputs": [
    {
     "data": {
      "text/plain": [
       "True"
      ]
     },
     "execution_count": 278,
     "metadata": {},
     "output_type": "execute_result"
    }
   ],
   "source": [
    "pcd_colmap = o3d.geometry.PointCloud()\n",
    "r_colmap_aboba = r_colmap.copy()\n",
    "r_colmap_aboba -= r_colmap_aboba.mean(axis=0)\n",
    "\n",
    "pcd_colmap.points = o3d.utility.Vector3dVector(r_colmap_aboba)\n",
    "o3d.io.write_point_cloud(\"./colmap.pcd\", pcd_colmap)\n",
    "\n",
    "r_my_aboba = r_my.copy()\n",
    "r_my_aboba -= r_my_aboba.mean(axis=0)\n",
    "\n",
    "r_my_aboba2 = r_my_aboba.copy()\n",
    "r_my_aboba2[:, 0] *= -1\n",
    "r_my_aboba2 = r_my_aboba2[:, [1, 0, 2]]\n",
    "\n",
    "pcd_my = o3d.geometry.PointCloud()\n",
    "pcd_my.points = o3d.utility.Vector3dVector(r_my_aboba2)\n",
    "o3d.io.write_point_cloud(\"./my.pcd\", pcd_my)"
   ]
  },
  {
   "cell_type": "markdown",
   "metadata": {},
   "source": [
    "**В исходном нужно сделать замену: x <-> -x, swap(x, y)?**"
   ]
  },
  {
   "cell_type": "code",
   "execution_count": 289,
   "metadata": {},
   "outputs": [],
   "source": [
    "r_my_aboba2 = r_my.copy()\n",
    "r_my_aboba2[:, 0] *= -1\n",
    "r_my_aboba2 = r_my_aboba2[:, [1, 0, 2]]\n",
    "\n",
    "# plot_poses(np.asarray(r_my_aboba2), k=0.3, text=poses_my_names, fontsize=8, only_points=True, marker_color=\"red\")"
   ]
  },
  {
   "cell_type": "code",
   "execution_count": 291,
   "metadata": {},
   "outputs": [
    {
     "data": {
      "application/vnd.plotly.v1+json": {
       "config": {
        "plotlyServerURL": "https://plot.ly"
       },
       "data": [
        {
         "marker": {
          "color": "red",
          "size": 3
         },
         "mode": "markers+text",
         "text": [
          "train/r_0.png",
          "train/r_1.png",
          "train/r_2.png",
          "train/r_3.png",
          "train/r_4.png",
          "train/r_5.png",
          "train/r_6.png",
          "train/r_7.png",
          "train/r_8.png",
          "train/r_9.png",
          "train/r_10.png",
          "train/r_11.png",
          "train/r_12.png",
          "train/r_13.png",
          "train/r_14.png",
          "train/r_15.png",
          "train/r_16.png",
          "train/r_17.png",
          "train/r_18.png",
          "train/r_19.png",
          "test/r_0.png",
          "test/r_1.png",
          "test/r_2.png",
          "test/r_3.png",
          "test/r_4.png",
          "test/r_5.png",
          "test/r_6.png",
          "test/r_7.png",
          "test/r_8.png",
          "test/r_9.png",
          "val/r_0.png",
          "val/r_1.png",
          "val/r_2.png",
          "val/r_3.png",
          "val/r_4.png",
          "val/r_5.png",
          "val/r_6.png",
          "val/r_7.png",
          "val/r_8.png",
          "val/r_9.png"
         ],
         "textfont": {
          "size": 8
         },
         "type": "scatter3d",
         "x": [
          0.741372719162336,
          0.6711806210246225,
          -0.13206827513814634,
          0.21708594653568536,
          0.295351302288303,
          -0.5090212232714317,
          -0.40255883558022587,
          -0.6087600027802553,
          -0.3576292308049709,
          0.1901299683462545,
          0.2945494161785076,
          0.1449024030559709,
          0.6560583050431852,
          -0.009191083537945843,
          -1.2484201646904385,
          0.5906255590099523,
          0.27455591624368214,
          0.7686378385301609,
          0.007483419094947319,
          1.5498898342079297,
          1.5561520062485492,
          -0.6467337051307718,
          -0.3448729077766042,
          -0.2511820109320171,
          0.7050454333620912,
          -0.20293193990889957,
          -0.09027809791098385,
          -0.21496588338385436,
          -0.9197819394765321,
          -0.6628400041673275,
          -0.6612518884004777,
          0.7999681611979756,
          0.5353978381370119,
          0.6049075344698638,
          -1.521571112059449,
          1.5039723100564286,
          -1.1007788655679729,
          -0.1601538093676207,
          -0.3294057260287402,
          -1.7328698262787694
         ],
         "y": [
          0.03955276191416682,
          -0.051214336524966306,
          -0.19358707788693943,
          2.274804668416386,
          2.5214701866267815,
          0.48199521118338473,
          -0.9851848400883487,
          -1.7486236389634615,
          -2.070865738903311,
          0.21946173624013085,
          -0.09735335038677784,
          0.5159554575195128,
          -0.04445789559284452,
          2.2322186802317647,
          -1.180853997969627,
          -0.3733225586944904,
          0.24092589812990087,
          -1.1668048555785184,
          1.0867217532333107,
          -0.19487039577316081,
          -0.19445883552198484,
          0.21490307035976383,
          -0.7327759990293223,
          1.058511388615718,
          -0.263096613866263,
          -1.53998478021385,
          -2.056418775636913,
          1.2579496282811167,
          0.204805898187894,
          -0.1538369968975499,
          -0.1530061011787731,
          -0.06583841910724664,
          -0.6609879947125535,
          0.3634225016808851,
          0.5095733269101375,
          0.3186571577000541,
          0.16221880253851542,
          -1.3843986099310335,
          1.3192274074072832,
          0.2895662772812285
         ],
         "z": [
          -0.061276656366840654,
          -0.8478454128537264,
          -1.9027540104075786,
          -0.2557583431242068,
          -0.13925809745902368,
          1.2097153909273404,
          -0.23031718053828426,
          -0.20391937159002504,
          -0.08937940578856948,
          0.03371132807000191,
          0.057542926570936626,
          0.010452559697681954,
          0.30944027845984606,
          0.24524331312413358,
          0.31648269391732026,
          0.016286893773267724,
          -0.10478129257371616,
          -0.5751189510979825,
          -0.09586610039404908,
          0.6463578857993286,
          0.6481693093333657,
          -0.023236152629013823,
          -0.4389868716184425,
          -0.1565220959626743,
          0.216818809643121,
          -0.035285262878819,
          -0.19816580296748115,
          0.5298098063224246,
          1.541109478305279,
          -1.1903083168548196,
          -1.1890334356397978,
          -0.20169937521856557,
          -0.4116951714864616,
          -0.042711164154275616,
          0.12061628661440688,
          -0.04506070776643831,
          0.8241372133178694,
          0.19807028122943315,
          0.555056396561882,
          0.9599583277031543
         ]
        },
        {
         "marker": {
          "color": "blue",
          "size": 3
         },
         "mode": "markers+text",
         "text": [
          "test/r_1.png",
          "test/r_2.png",
          "test/r_3.png",
          "test/r_4.png",
          "test/r_5.png",
          "test/r_6.png",
          "test/r_7.png",
          "test/r_9.png",
          "train/r_0.png",
          "train/r_1.png",
          "train/r_10.png",
          "train/r_11.png",
          "train/r_12.png",
          "train/r_13.png",
          "train/r_15.png",
          "train/r_16.png",
          "train/r_17.png",
          "train/r_18.png",
          "train/r_19.png",
          "train/r_2.png",
          "train/r_3.png",
          "train/r_5.png",
          "train/r_6.png",
          "train/r_7.png",
          "train/r_8.png",
          "train/r_9.png",
          "val/r_0.png",
          "val/r_1.png",
          "val/r_3.png",
          "val/r_4.png",
          "val/r_5.png",
          "val/r_6.png",
          "val/r_7.png",
          "val/r_8.png",
          "val/r_9.png",
          "test/r_8.png",
          "train/r_14.png",
          "train/r_4.png",
          "val/r_2.png",
          "test/r_0.png"
         ],
         "textfont": {
          "size": 8
         },
         "type": "scatter3d",
         "x": [
          -0.6171765778992726,
          -0.4001510053085582,
          -0.150190983839269,
          0.6777477850048355,
          -0.3270461829909954,
          -0.25147140871598417,
          -0.09820785536607923,
          -0.7016980320088981,
          0.7466152172064859,
          0.6296749621570816,
          0.2997172224729736,
          0.18052234961477787,
          0.6345795212690417,
          0.15747736535633194,
          0.5519754365168721,
          0.2850842669124729,
          0.6777157797358431,
          0.10049753835265163,
          1.535238155030247,
          -0.1946360838781751,
          0.3748439668656127,
          -0.447308102220902,
          -0.5043386961495488,
          -0.7604619232750833,
          -0.5327417444943414,
          0.21022566908286056,
          -0.6977716044092905,
          0.7905354248599918,
          0.6456969880613697,
          -1.4386412771624157,
          1.536261210786722,
          -1.0582799767139335,
          -0.25797413059720586,
          -0.19494549259924288,
          -1.671244480262553,
          -0.8801241376795406,
          -1.3416062254436913,
          0.47681872483290455,
          0.4742387740842222,
          1.540549562811596
         ],
         "y": [
          0.2745493050095032,
          -0.6694423847841975,
          1.061931698597359,
          -0.2974351048614098,
          -1.4696911654520324,
          -1.985383360924221,
          1.2402872067116242,
          -0.07027279602713091,
          -0.008973200362503847,
          -0.09205743970395794,
          -0.11234614913659777,
          0.5095135617070438,
          -0.08770219169397014,
          2.2510306145678807,
          -0.393164056758475,
          0.19102600072781392,
          -1.2337330893428613,
          1.1205093430546282,
          -0.3062674435207381,
          -0.15814631672199855,
          2.305144017710848,
          0.5212819478289362,
          -0.9391259868262694,
          -1.671780494743933,
          -2.0149025156716887,
          0.2106159160847258,
          -0.12421475020188469,
          -0.17084709988066346,
          0.2553078073991534,
          0.573138792516839,
          0.13456511256270665,
          0.20076572478868743,
          -1.3806943053751024,
          1.254284627380279,
          0.3846553143884356,
          0.2849875795955406,
          -1.0641290189528634,
          2.511950493024016,
          -0.7223905035758879,
          -0.31284568913763444
         ],
         "z": [
          -0.01260041493147969,
          -0.4445067695583885,
          -0.13440663045310003,
          0.2252183145909426,
          -0.05153216236179824,
          -0.22930290899783734,
          0.5437598120681303,
          -1.1968657054860228,
          -0.06152048511220436,
          -0.855160374275509,
          0.06749538050870012,
          0.009823546009174289,
          0.3109250428433372,
          0.25795999502636163,
          0.017444756409393927,
          -0.09073126624537094,
          -0.6034682374308045,
          -0.08265294671715638,
          0.6514006775745624,
          -1.9106337948488297,
          -0.24379197077776482,
          1.2235409919540219,
          -0.25151809689503496,
          -0.2298062873531923,
          -0.12807948877960185,
          0.04115411614402461,
          -1.1986694324927276,
          -0.2047810224038143,
          -0.03130651231741903,
          0.13730951130332888,
          -0.042891701223274334,
          0.8287701966834833,
          0.18078699207914092,
          0.5782573677095753,
          0.98706067937305,
          1.5443990071279734,
          0.29745949365636537,
          -0.12260334992595771,
          -0.422347690945012,
          0.6464113684707339
         ]
        }
       ],
       "layout": {
        "template": {
         "data": {
          "bar": [
           {
            "error_x": {
             "color": "#2a3f5f"
            },
            "error_y": {
             "color": "#2a3f5f"
            },
            "marker": {
             "line": {
              "color": "#E5ECF6",
              "width": 0.5
             },
             "pattern": {
              "fillmode": "overlay",
              "size": 10,
              "solidity": 0.2
             }
            },
            "type": "bar"
           }
          ],
          "barpolar": [
           {
            "marker": {
             "line": {
              "color": "#E5ECF6",
              "width": 0.5
             },
             "pattern": {
              "fillmode": "overlay",
              "size": 10,
              "solidity": 0.2
             }
            },
            "type": "barpolar"
           }
          ],
          "carpet": [
           {
            "aaxis": {
             "endlinecolor": "#2a3f5f",
             "gridcolor": "white",
             "linecolor": "white",
             "minorgridcolor": "white",
             "startlinecolor": "#2a3f5f"
            },
            "baxis": {
             "endlinecolor": "#2a3f5f",
             "gridcolor": "white",
             "linecolor": "white",
             "minorgridcolor": "white",
             "startlinecolor": "#2a3f5f"
            },
            "type": "carpet"
           }
          ],
          "choropleth": [
           {
            "colorbar": {
             "outlinewidth": 0,
             "ticks": ""
            },
            "type": "choropleth"
           }
          ],
          "contour": [
           {
            "colorbar": {
             "outlinewidth": 0,
             "ticks": ""
            },
            "colorscale": [
             [
              0,
              "#0d0887"
             ],
             [
              0.1111111111111111,
              "#46039f"
             ],
             [
              0.2222222222222222,
              "#7201a8"
             ],
             [
              0.3333333333333333,
              "#9c179e"
             ],
             [
              0.4444444444444444,
              "#bd3786"
             ],
             [
              0.5555555555555556,
              "#d8576b"
             ],
             [
              0.6666666666666666,
              "#ed7953"
             ],
             [
              0.7777777777777778,
              "#fb9f3a"
             ],
             [
              0.8888888888888888,
              "#fdca26"
             ],
             [
              1,
              "#f0f921"
             ]
            ],
            "type": "contour"
           }
          ],
          "contourcarpet": [
           {
            "colorbar": {
             "outlinewidth": 0,
             "ticks": ""
            },
            "type": "contourcarpet"
           }
          ],
          "heatmap": [
           {
            "colorbar": {
             "outlinewidth": 0,
             "ticks": ""
            },
            "colorscale": [
             [
              0,
              "#0d0887"
             ],
             [
              0.1111111111111111,
              "#46039f"
             ],
             [
              0.2222222222222222,
              "#7201a8"
             ],
             [
              0.3333333333333333,
              "#9c179e"
             ],
             [
              0.4444444444444444,
              "#bd3786"
             ],
             [
              0.5555555555555556,
              "#d8576b"
             ],
             [
              0.6666666666666666,
              "#ed7953"
             ],
             [
              0.7777777777777778,
              "#fb9f3a"
             ],
             [
              0.8888888888888888,
              "#fdca26"
             ],
             [
              1,
              "#f0f921"
             ]
            ],
            "type": "heatmap"
           }
          ],
          "heatmapgl": [
           {
            "colorbar": {
             "outlinewidth": 0,
             "ticks": ""
            },
            "colorscale": [
             [
              0,
              "#0d0887"
             ],
             [
              0.1111111111111111,
              "#46039f"
             ],
             [
              0.2222222222222222,
              "#7201a8"
             ],
             [
              0.3333333333333333,
              "#9c179e"
             ],
             [
              0.4444444444444444,
              "#bd3786"
             ],
             [
              0.5555555555555556,
              "#d8576b"
             ],
             [
              0.6666666666666666,
              "#ed7953"
             ],
             [
              0.7777777777777778,
              "#fb9f3a"
             ],
             [
              0.8888888888888888,
              "#fdca26"
             ],
             [
              1,
              "#f0f921"
             ]
            ],
            "type": "heatmapgl"
           }
          ],
          "histogram": [
           {
            "marker": {
             "pattern": {
              "fillmode": "overlay",
              "size": 10,
              "solidity": 0.2
             }
            },
            "type": "histogram"
           }
          ],
          "histogram2d": [
           {
            "colorbar": {
             "outlinewidth": 0,
             "ticks": ""
            },
            "colorscale": [
             [
              0,
              "#0d0887"
             ],
             [
              0.1111111111111111,
              "#46039f"
             ],
             [
              0.2222222222222222,
              "#7201a8"
             ],
             [
              0.3333333333333333,
              "#9c179e"
             ],
             [
              0.4444444444444444,
              "#bd3786"
             ],
             [
              0.5555555555555556,
              "#d8576b"
             ],
             [
              0.6666666666666666,
              "#ed7953"
             ],
             [
              0.7777777777777778,
              "#fb9f3a"
             ],
             [
              0.8888888888888888,
              "#fdca26"
             ],
             [
              1,
              "#f0f921"
             ]
            ],
            "type": "histogram2d"
           }
          ],
          "histogram2dcontour": [
           {
            "colorbar": {
             "outlinewidth": 0,
             "ticks": ""
            },
            "colorscale": [
             [
              0,
              "#0d0887"
             ],
             [
              0.1111111111111111,
              "#46039f"
             ],
             [
              0.2222222222222222,
              "#7201a8"
             ],
             [
              0.3333333333333333,
              "#9c179e"
             ],
             [
              0.4444444444444444,
              "#bd3786"
             ],
             [
              0.5555555555555556,
              "#d8576b"
             ],
             [
              0.6666666666666666,
              "#ed7953"
             ],
             [
              0.7777777777777778,
              "#fb9f3a"
             ],
             [
              0.8888888888888888,
              "#fdca26"
             ],
             [
              1,
              "#f0f921"
             ]
            ],
            "type": "histogram2dcontour"
           }
          ],
          "mesh3d": [
           {
            "colorbar": {
             "outlinewidth": 0,
             "ticks": ""
            },
            "type": "mesh3d"
           }
          ],
          "parcoords": [
           {
            "line": {
             "colorbar": {
              "outlinewidth": 0,
              "ticks": ""
             }
            },
            "type": "parcoords"
           }
          ],
          "pie": [
           {
            "automargin": true,
            "type": "pie"
           }
          ],
          "scatter": [
           {
            "fillpattern": {
             "fillmode": "overlay",
             "size": 10,
             "solidity": 0.2
            },
            "type": "scatter"
           }
          ],
          "scatter3d": [
           {
            "line": {
             "colorbar": {
              "outlinewidth": 0,
              "ticks": ""
             }
            },
            "marker": {
             "colorbar": {
              "outlinewidth": 0,
              "ticks": ""
             }
            },
            "type": "scatter3d"
           }
          ],
          "scattercarpet": [
           {
            "marker": {
             "colorbar": {
              "outlinewidth": 0,
              "ticks": ""
             }
            },
            "type": "scattercarpet"
           }
          ],
          "scattergeo": [
           {
            "marker": {
             "colorbar": {
              "outlinewidth": 0,
              "ticks": ""
             }
            },
            "type": "scattergeo"
           }
          ],
          "scattergl": [
           {
            "marker": {
             "colorbar": {
              "outlinewidth": 0,
              "ticks": ""
             }
            },
            "type": "scattergl"
           }
          ],
          "scattermapbox": [
           {
            "marker": {
             "colorbar": {
              "outlinewidth": 0,
              "ticks": ""
             }
            },
            "type": "scattermapbox"
           }
          ],
          "scatterpolar": [
           {
            "marker": {
             "colorbar": {
              "outlinewidth": 0,
              "ticks": ""
             }
            },
            "type": "scatterpolar"
           }
          ],
          "scatterpolargl": [
           {
            "marker": {
             "colorbar": {
              "outlinewidth": 0,
              "ticks": ""
             }
            },
            "type": "scatterpolargl"
           }
          ],
          "scatterternary": [
           {
            "marker": {
             "colorbar": {
              "outlinewidth": 0,
              "ticks": ""
             }
            },
            "type": "scatterternary"
           }
          ],
          "surface": [
           {
            "colorbar": {
             "outlinewidth": 0,
             "ticks": ""
            },
            "colorscale": [
             [
              0,
              "#0d0887"
             ],
             [
              0.1111111111111111,
              "#46039f"
             ],
             [
              0.2222222222222222,
              "#7201a8"
             ],
             [
              0.3333333333333333,
              "#9c179e"
             ],
             [
              0.4444444444444444,
              "#bd3786"
             ],
             [
              0.5555555555555556,
              "#d8576b"
             ],
             [
              0.6666666666666666,
              "#ed7953"
             ],
             [
              0.7777777777777778,
              "#fb9f3a"
             ],
             [
              0.8888888888888888,
              "#fdca26"
             ],
             [
              1,
              "#f0f921"
             ]
            ],
            "type": "surface"
           }
          ],
          "table": [
           {
            "cells": {
             "fill": {
              "color": "#EBF0F8"
             },
             "line": {
              "color": "white"
             }
            },
            "header": {
             "fill": {
              "color": "#C8D4E3"
             },
             "line": {
              "color": "white"
             }
            },
            "type": "table"
           }
          ]
         },
         "layout": {
          "annotationdefaults": {
           "arrowcolor": "#2a3f5f",
           "arrowhead": 0,
           "arrowwidth": 1
          },
          "autotypenumbers": "strict",
          "coloraxis": {
           "colorbar": {
            "outlinewidth": 0,
            "ticks": ""
           }
          },
          "colorscale": {
           "diverging": [
            [
             0,
             "#8e0152"
            ],
            [
             0.1,
             "#c51b7d"
            ],
            [
             0.2,
             "#de77ae"
            ],
            [
             0.3,
             "#f1b6da"
            ],
            [
             0.4,
             "#fde0ef"
            ],
            [
             0.5,
             "#f7f7f7"
            ],
            [
             0.6,
             "#e6f5d0"
            ],
            [
             0.7,
             "#b8e186"
            ],
            [
             0.8,
             "#7fbc41"
            ],
            [
             0.9,
             "#4d9221"
            ],
            [
             1,
             "#276419"
            ]
           ],
           "sequential": [
            [
             0,
             "#0d0887"
            ],
            [
             0.1111111111111111,
             "#46039f"
            ],
            [
             0.2222222222222222,
             "#7201a8"
            ],
            [
             0.3333333333333333,
             "#9c179e"
            ],
            [
             0.4444444444444444,
             "#bd3786"
            ],
            [
             0.5555555555555556,
             "#d8576b"
            ],
            [
             0.6666666666666666,
             "#ed7953"
            ],
            [
             0.7777777777777778,
             "#fb9f3a"
            ],
            [
             0.8888888888888888,
             "#fdca26"
            ],
            [
             1,
             "#f0f921"
            ]
           ],
           "sequentialminus": [
            [
             0,
             "#0d0887"
            ],
            [
             0.1111111111111111,
             "#46039f"
            ],
            [
             0.2222222222222222,
             "#7201a8"
            ],
            [
             0.3333333333333333,
             "#9c179e"
            ],
            [
             0.4444444444444444,
             "#bd3786"
            ],
            [
             0.5555555555555556,
             "#d8576b"
            ],
            [
             0.6666666666666666,
             "#ed7953"
            ],
            [
             0.7777777777777778,
             "#fb9f3a"
            ],
            [
             0.8888888888888888,
             "#fdca26"
            ],
            [
             1,
             "#f0f921"
            ]
           ]
          },
          "colorway": [
           "#636efa",
           "#EF553B",
           "#00cc96",
           "#ab63fa",
           "#FFA15A",
           "#19d3f3",
           "#FF6692",
           "#B6E880",
           "#FF97FF",
           "#FECB52"
          ],
          "font": {
           "color": "#2a3f5f"
          },
          "geo": {
           "bgcolor": "white",
           "lakecolor": "white",
           "landcolor": "#E5ECF6",
           "showlakes": true,
           "showland": true,
           "subunitcolor": "white"
          },
          "hoverlabel": {
           "align": "left"
          },
          "hovermode": "closest",
          "mapbox": {
           "style": "light"
          },
          "paper_bgcolor": "white",
          "plot_bgcolor": "#E5ECF6",
          "polar": {
           "angularaxis": {
            "gridcolor": "white",
            "linecolor": "white",
            "ticks": ""
           },
           "bgcolor": "#E5ECF6",
           "radialaxis": {
            "gridcolor": "white",
            "linecolor": "white",
            "ticks": ""
           }
          },
          "scene": {
           "xaxis": {
            "backgroundcolor": "#E5ECF6",
            "gridcolor": "white",
            "gridwidth": 2,
            "linecolor": "white",
            "showbackground": true,
            "ticks": "",
            "zerolinecolor": "white"
           },
           "yaxis": {
            "backgroundcolor": "#E5ECF6",
            "gridcolor": "white",
            "gridwidth": 2,
            "linecolor": "white",
            "showbackground": true,
            "ticks": "",
            "zerolinecolor": "white"
           },
           "zaxis": {
            "backgroundcolor": "#E5ECF6",
            "gridcolor": "white",
            "gridwidth": 2,
            "linecolor": "white",
            "showbackground": true,
            "ticks": "",
            "zerolinecolor": "white"
           }
          },
          "shapedefaults": {
           "line": {
            "color": "#2a3f5f"
           }
          },
          "ternary": {
           "aaxis": {
            "gridcolor": "white",
            "linecolor": "white",
            "ticks": ""
           },
           "baxis": {
            "gridcolor": "white",
            "linecolor": "white",
            "ticks": ""
           },
           "bgcolor": "#E5ECF6",
           "caxis": {
            "gridcolor": "white",
            "linecolor": "white",
            "ticks": ""
           }
          },
          "title": {
           "x": 0.05
          },
          "xaxis": {
           "automargin": true,
           "gridcolor": "white",
           "linecolor": "white",
           "ticks": "",
           "title": {
            "standoff": 15
           },
           "zerolinecolor": "white",
           "zerolinewidth": 2
          },
          "yaxis": {
           "automargin": true,
           "gridcolor": "white",
           "linecolor": "white",
           "ticks": "",
           "title": {
            "standoff": 15
           },
           "zerolinecolor": "white",
           "zerolinewidth": 2
          }
         }
        }
       }
      }
     },
     "metadata": {},
     "output_type": "display_data"
    }
   ],
   "source": [
    "poses_colmap_aboba = poses_colmap.copy()\n",
    "poses_colmap_aboba -= r_colmap_aboba.mean(axis=0)\n",
    "\n",
    "r_my_aboba = r_my.copy()\n",
    "r_my_aboba -= r_my_aboba.mean(axis=0)\n",
    "\n",
    "r_my_aboba2 = r_my_aboba.copy()\n",
    "r_my_aboba2[:, 0] *= -1\n",
    "r_my_aboba2 = r_my_aboba2[:, [1, 0, 2]]\n",
    "\n",
    "fig1 = plot_poses(np.asarray(r_my_aboba2), k=0.3, text=poses_my_names, fontsize=8, only_points=True, marker_color=\"red\")\n",
    "fig2 = plot_poses(np.asarray(r_colmap_aboba), k=0.3, text=poses_colmap_names, fontsize=8, only_points=True, marker_color=\"blue\")\n",
    "fig = go.Figure(data = fig1.data + fig2.data)\n",
    "fig.show()"
   ]
  },
  {
   "cell_type": "code",
   "execution_count": 143,
   "metadata": {},
   "outputs": [],
   "source": [
    "def draw_registration_result(source, target, transformation):\n",
    "    source_temp = copy.deepcopy(source)\n",
    "    target_temp = copy.deepcopy(target)\n",
    "    source_temp.paint_uniform_color([1, 0.706, 0])\n",
    "    target_temp.paint_uniform_color([0, 0.651, 0.929])\n",
    "    source_temp.transform(transformation)\n",
    "    o3d.visualization.draw_geometries([source_temp, target_temp])"
   ]
  },
  {
   "cell_type": "code",
   "execution_count": 263,
   "metadata": {},
   "outputs": [
    {
     "name": "stdout",
     "output_type": "stream",
     "text": [
      "Initial alignment\n",
      "RegistrationResult with fitness=1.000000e+00, inlier_rmse=8.432482e-01, and correspondence_set size of 40\n",
      "Access transformation to get result.\n",
      "Apply point-to-point ICP\n",
      "RegistrationResult with fitness=1.000000e+00, inlier_rmse=5.979840e-01, and correspondence_set size of 40\n",
      "Access transformation to get result.\n",
      "Transformation is:\n",
      "[[ 7.86394787e-01 -2.58610920e-01  5.60984519e-01  2.15328859e-04]\n",
      " [-2.33736232e-01 -9.65198792e-01 -1.17297342e-01  6.71019842e-02]\n",
      " [ 5.71795953e-01 -3.88803897e-02 -8.19474041e-01 -7.87739862e-02]\n",
      " [ 0.00000000e+00  0.00000000e+00  0.00000000e+00  1.00000000e+00]]\n"
     ]
    }
   ],
   "source": [
    "source = o3d.io.read_point_cloud(\"./my.pcd\")\n",
    "target = o3d.io.read_point_cloud(\"./colmap.pcd\")\n",
    "threshold = 4.0\n",
    "\n",
    "trans_init = np.eye(4)\n",
    "trans_init[:3, :3] = scipy.spatial.transform.Rotation.random().as_matrix()\n",
    "# draw_registration_result(source, target, trans_init)\n",
    "print(\"Initial alignment\")\n",
    "evaluation = o3d.pipelines.registration.evaluate_registration(source, target,\n",
    "                                                    threshold, trans_init)\n",
    "print(evaluation)\n",
    "\n",
    "print(\"Apply point-to-point ICP\")\n",
    "reg_p2p = o3d.pipelines.registration.registration_icp(\n",
    "    source, target, threshold, trans_init,\n",
    "    o3d.pipelines.registration.TransformationEstimationPointToPoint(),\n",
    "    o3d.pipelines.registration.ICPConvergenceCriteria(max_iteration=500000))\n",
    "print(reg_p2p)\n",
    "print(\"Transformation is:\")\n",
    "print(reg_p2p.transformation)\n",
    "draw_registration_result(source, target, reg_p2p.transformation)\n",
    "\n",
    "# source_temp = copy.deepcopy(source)\n",
    "# target_temp = copy.deepcopy(target)\n",
    "# source_temp.paint_uniform_color([1, 0.706, 0])\n",
    "# target_temp.paint_uniform_color([0, 0.651, 0.929])\n",
    "# source_temp.transform(reg_p2p.transformation)\n",
    "\n",
    "# plot_poses(np.asarray(source_temp.points), k=0.3, text=poses_my_names, fontsize=8, only_points=True)\n",
    "# plot_poses(np.asarray(target.points), k=0.3, text=poses_colmap_names, fontsize=8, only_points=True)"
   ]
  },
  {
   "cell_type": "code",
   "execution_count": null,
   "metadata": {},
   "outputs": [],
   "source": [
    "# plot_poses(np.asarray(source_temp.points), k=0.3, text=poses_my_names, fontsize=8, only_points=True)"
   ]
  },
  {
   "cell_type": "markdown",
   "metadata": {},
   "source": [
    "### Посмотрим на преобразования, которые совершаются"
   ]
  },
  {
   "cell_type": "code",
   "execution_count": null,
   "metadata": {},
   "outputs": [],
   "source": [
    "# pose0 = np.eye(4)[None, ...]\n",
    "# pose0[:, 0:3, 3] = [1.0, 2.0, 3.0]\n",
    "\n",
    "pose1 = np.eye(4)[None, ...]\n",
    "pose1[:, 0:3, 3] = [1.0, 2.0, 3.0]\n",
    "# flip axes\n",
    "pose1[:, 0:3, 1] *= -1\n",
    "pose1[:, 0:3, 2] *= -1\n",
    "\n",
    "pose2 = np.eye(4)[None, ...]\n",
    "pose2[:, 0:3, 3] = [1.0, 2.0, 3.0]\n",
    "# flip axes\n",
    "pose2[:, 0:3, 1] *= -1\n",
    "pose2[:, 0:3, 2] *= -1\n",
    "# swap\n",
    "pose2 = pose2[:, [1, 0, 2, 3], :] # swap y and z\n",
    "\n",
    "pose3 = np.eye(4)[None, ...]\n",
    "pose3[:, 0:3, 3] = [1.0, 2.0, 3.0]\n",
    "# flip axes\n",
    "pose3[:, 0:3, 1] *= -1\n",
    "pose3[:, 0:3, 2] *= -1\n",
    "# swap\n",
    "pose3 = pose3[:, [1, 0, 2, 3], :] # swap y and z\n",
    "pose3[:, 2, :] *= -1 # flip whole world upside down\n",
    "\n",
    "# poses = np.stack([pose0, pose1, pose2, pose3])[:, 0, :, :]\n",
    "poses = np.stack([pose1, pose2, pose3])[:, 0, :, :]\n",
    "\n",
    "# fig = plot_poses(poses, k=0.5, text=[\"begin\", \"flip camera\", \"swap\", \"flip world\"])\n",
    "fig = plot_poses(poses, k=0.5, text=[\"flip camera\", \"swap\", \"flip world\"])\n",
    "fig.update_layout(\n",
    "    scene=dict(\n",
    "        xaxis = dict(range=[-3,3],),\n",
    "        yaxis = dict(range=[-3,3],),\n",
    "        zaxis = dict(range=[-3,3],),\n",
    "    )\n",
    ")\n",
    "fig.show()"
   ]
  },
  {
   "cell_type": "code",
   "execution_count": 132,
   "metadata": {},
   "outputs": [
    {
     "data": {
      "text/plain": [
       "(3, 4, 4)"
      ]
     },
     "execution_count": 132,
     "metadata": {},
     "output_type": "execute_result"
    }
   ],
   "source": [
    "np.stack([pose0, pose1, pose2])[:, 0, :, :].shape"
   ]
  },
  {
   "cell_type": "code",
   "execution_count": null,
   "metadata": {},
   "outputs": [],
   "source": []
  }
 ],
 "metadata": {
  "kernelspec": {
   "display_name": "Python 3.8.10 64-bit",
   "language": "python",
   "name": "python3"
  },
  "language_info": {
   "codemirror_mode": {
    "name": "ipython",
    "version": 3
   },
   "file_extension": ".py",
   "mimetype": "text/x-python",
   "name": "python",
   "nbconvert_exporter": "python",
   "pygments_lexer": "ipython3",
   "version": "3.8.10"
  },
  "orig_nbformat": 4,
  "vscode": {
   "interpreter": {
    "hash": "31f2aee4e71d21fbe5cf8b01ff0e069b9275f58929596ceb00d14d90e3e16cd6"
   }
  }
 },
 "nbformat": 4,
 "nbformat_minor": 2
}
