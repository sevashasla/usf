{
 "cells": [
  {
   "cell_type": "code",
   "execution_count": 1,
   "metadata": {},
   "outputs": [],
   "source": [
    "import cv2\n",
    "import numpy as np\n",
    "import matplotlib.pyplot as plt\n",
    "import seaborn as sns\n",
    "import plotly\n",
    "from plotly import graph_objects as go\n",
    "from plotly import express as px\n",
    "import imageio\n",
    "import json"
   ]
  },
  {
   "cell_type": "code",
   "execution_count": 2,
   "metadata": {},
   "outputs": [],
   "source": [
    "import torch\n",
    "import torch.nn as nn\n",
    "import torch.nn.functional as F"
   ]
  },
  {
   "cell_type": "code",
   "execution_count": 65,
   "metadata": {},
   "outputs": [],
   "source": [
    "import yaml\n",
    "from types import SimpleNamespace\n",
    "from collections.abc import Iterable"
   ]
  },
  {
   "cell_type": "code",
   "execution_count": 264,
   "metadata": {},
   "outputs": [],
   "source": [
    "def plot_poses(poses, k=0.3, text=None, marker_color=None, fontsize=None, only_points=False):\n",
    "    '''\n",
    "        Draw camera position with plotly\n",
    "        :param poses - np.ndarray [N, 4, 4]\n",
    "            cam2world\n",
    "        :param k - float or np.ndarray.\n",
    "            length of the axis. default = 0.3\n",
    "    '''\n",
    "    # distance to point from (0, 0, 0)\n",
    "    r = poses if only_points else poses[..., -1][:, [0, 1, 2]]\n",
    "\n",
    "    # plot all origins\n",
    "    fig = go.Figure(\n",
    "        go.Scatter3d(\n",
    "            x=r[:, 0], \n",
    "            y=r[:, 1], \n",
    "            z=r[:, 2], \n",
    "            marker=dict(size=3, color=marker_color),\n",
    "            text=text,\n",
    "            mode=\"markers+text\",\n",
    "            textfont=dict(\n",
    "            size=fontsize,\n",
    "            ),\n",
    "        )\n",
    "    )\n",
    "\n",
    "    def plot_segment(begin, delta, k, color):\n",
    "        '''\n",
    "            Function to plot segment in plotly\n",
    "        '''\n",
    "        end = begin + k * delta\n",
    "        return go.Scatter3d(\n",
    "                x=[begin[0], end[0]], \n",
    "                y=[begin[1], end[1]], \n",
    "                z=[begin[2], end[2]], \n",
    "                line=dict(\n",
    "                    color=color,\n",
    "                    width=2\n",
    "                ),\n",
    "                mode=\"lines\"\n",
    "            )\n",
    "\n",
    "    if isinstance(k, Iterable):\n",
    "        kx = k[0]\n",
    "        ky = k[1]\n",
    "        kz = k[2]\n",
    "    else:\n",
    "        kx = ky = kz = k\n",
    "\n",
    "    if not only_points:\n",
    "        for pos in poses:\n",
    "            xax = pos[:3, 0]\n",
    "            yax = pos[:3, 1]\n",
    "            zax = pos[:3, 2]\n",
    "            point_begin = pos[:3, 3]\n",
    "            fig.add_trace(plot_segment(point_begin, xax, kx, \"red\"))\n",
    "            fig.add_trace(plot_segment(point_begin, yax, ky, \"green\"))\n",
    "            fig.add_trace(plot_segment(point_begin, zax, kz, \"blue\"))\n",
    "\n",
    "    # fig.update_traces(marker_size=3)\n",
    "    return fig"
   ]
  },
  {
   "cell_type": "code",
   "execution_count": 4,
   "metadata": {},
   "outputs": [],
   "source": [
    "def qvec2rotmat(qvec):\n",
    "    return np.array([\n",
    "        [\n",
    "            1 - 2 * qvec[2]**2 - 2 * qvec[3]**2,\n",
    "            2 * qvec[1] * qvec[2] - 2 * qvec[0] * qvec[3],\n",
    "            2 * qvec[3] * qvec[1] + 2 * qvec[0] * qvec[2]\n",
    "        ], [\n",
    "            2 * qvec[1] * qvec[2] + 2 * qvec[0] * qvec[3],\n",
    "            1 - 2 * qvec[1]**2 - 2 * qvec[3]**2,\n",
    "            2 * qvec[2] * qvec[3] - 2 * qvec[0] * qvec[1]\n",
    "        ], [\n",
    "            2 * qvec[3] * qvec[1] - 2 * qvec[0] * qvec[2],\n",
    "            2 * qvec[2] * qvec[3] + 2 * qvec[0] * qvec[1],\n",
    "            1 - 2 * qvec[1]**2 - 2 * qvec[2]**2\n",
    "        ]\n",
    "    ])\n",
    "\n",
    "def rotmat(a, b):\n",
    "\ta, b = a / np.linalg.norm(a), b / np.linalg.norm(b)\n",
    "\tv = np.cross(a, b)\n",
    "\tc = np.dot(a, b)\n",
    "\t# handle exception for the opposite direction input\n",
    "\tif c < -1 + 1e-10:\n",
    "\t\treturn rotmat(a + np.random.uniform(-1e-2, 1e-2, 3), b)\n",
    "\ts = np.linalg.norm(v)\n",
    "\tkmat = np.array([[0, -v[2], v[1]], [v[2], 0, -v[0]], [-v[1], v[0], 0]])\n",
    "\treturn np.eye(3) + kmat + kmat.dot(kmat) * ((1 - c) / (s ** 2 + 1e-10))\n",
    "\n",
    "def closest_point_2_lines(oa, da, ob, db): # returns point closest to both rays of form o+t*d, and a weight factor that goes to 0 if the lines are parallel\n",
    "    da = da / np.linalg.norm(da)\n",
    "    db = db / np.linalg.norm(db)\n",
    "    c = np.cross(da, db)\n",
    "    denom = np.linalg.norm(c)**2\n",
    "    t = ob - oa\n",
    "    ta = np.linalg.det([t, db, c]) / (denom + 1e-10)\n",
    "    tb = np.linalg.det([t, da, c]) / (denom + 1e-10)\n",
    "    if ta > 0:\n",
    "        ta = 0\n",
    "    if tb > 0:\n",
    "        tb = 0\n",
    "    return (oa+ta*da+ob+tb*db) * 0.5, denom"
   ]
  },
  {
   "cell_type": "code",
   "execution_count": 51,
   "metadata": {},
   "outputs": [],
   "source": [
    "poses_colmap = []\n",
    "poses_colmap_names = []\n",
    "with open(\"/home/sevashasla/coding/datasets/tools_all/colmap_text/images.txt\", \"r\") as f:\n",
    "    i = 0\n",
    "\n",
    "    bottom = np.array([0.0, 0.0, 0.0, 1.0]).reshape([1, 4])\n",
    "\n",
    "    frames = []\n",
    "\n",
    "    up = np.zeros(3)\n",
    "    for line in f:\n",
    "        line = line.strip()\n",
    "\n",
    "        if line[0] == \"#\":\n",
    "            continue\n",
    "\n",
    "        i = i + 1\n",
    "\n",
    "        if i % 2 == 1:\n",
    "            elems = line.split(\" \") # 1-4 is quat, 5-7 is trans, 9ff is filename (9, if filename contains no spaces)\n",
    "\n",
    "            name = '_'.join(elems[9:])\n",
    "            \n",
    "            poses_colmap_names.append(name.split(\"_\")[0] + \"/\" + \"_\".join(name.split(\"_\")[1:]))\n",
    "\n",
    "            image_id = int(elems[0])\n",
    "            qvec = np.array(tuple(map(float, elems[1:5])))\n",
    "            tvec = np.array(tuple(map(float, elems[5:8])))\n",
    "            R = qvec2rotmat(-qvec)\n",
    "            t = tvec.reshape([3, 1])\n",
    "            m = np.concatenate([np.concatenate([R, t], 1), bottom], 0)\n",
    "            c2w = np.linalg.inv(m)\n",
    "            poses_colmap.append(c2w)\n",
    "poses_colmap = np.array(poses_colmap)\n",
    "r_colmap = poses_colmap[..., -1][:, [0, 1, 2]]"
   ]
  },
  {
   "cell_type": "code",
   "execution_count": 52,
   "metadata": {},
   "outputs": [],
   "source": [
    "# poses_colmap = []\n",
    "# poses_colmap_names = []\n",
    "# with open(\"/home/sevashasla/coding/datasets/tools_all/transforms_test.json\") as f:\n",
    "#     data = json.load(f)\n",
    "#     poses_colmap.extend([el['transform_matrix'] for el in data['frames']])\n",
    "#     # poses_colmap_names.extend([el['transform_matrix'] for el in data['frames']])\n",
    "\n",
    "# with open(\"/home/sevashasla/coding/datasets/tools_all/transforms_train.json\") as f:\n",
    "#     data = json.load(f)\n",
    "#     poses_colmap.extend([el['transform_matrix'] for el in data['frames']])\n",
    "\n",
    "# with open(\"/home/sevashasla/coding/datasets/tools_all/transforms_val.json\") as f:\n",
    "#     data = json.load(f)\n",
    "#     poses_colmap.extend([el['transform_matrix'] for el in data['frames']])\n",
    "# poses_colmap = np.array(poses_colmap)\n",
    "# r_colmap = poses_colmap[..., -1][:, [0, 1, 2]]"
   ]
  },
  {
   "cell_type": "code",
   "execution_count": 314,
   "metadata": {},
   "outputs": [],
   "source": [
    "poses_my = []\n",
    "poses_my_names = []\n",
    "with open(\"/home/sevashasla/coding/datasets/tools/transforms/transforms_train.json\") as f:\n",
    "    data = json.load(f)\n",
    "    poses_my.extend([el['transform_matrix'] for el in data['frames']])\n",
    "    poses_my_names.extend([el['file_path'] for el in data['frames']])\n",
    "\n",
    "with open(\"/home/sevashasla/coding/datasets/tools/transforms/transforms_test.json\") as f:\n",
    "    data = json.load(f)\n",
    "    poses_my.extend([el['transform_matrix'] for el in data['frames']])\n",
    "    poses_my_names.extend([el['file_path'] for el in data['frames']])\n",
    "\n",
    "with open(\"/home/sevashasla/coding/datasets/tools/transforms/transforms_val.json\") as f:\n",
    "    data = json.load(f)\n",
    "    poses_my.extend([el['transform_matrix'] for el in data['frames']])\n",
    "    poses_my_names.extend([el['file_path'] for el in data['frames']])\n",
    "poses_my = np.array(poses_my)\n",
    "# poses_my = poses_my @ np.linalg.inv(np.array([\n",
    "#             [1, 0, 0, -0.03284863],\n",
    "#             [0, 1, 0, -0.08],\n",
    "#             [0, 0, 1, -0.08414625],\n",
    "#             [0, 0, 0, 1],\n",
    "#         ]))\n",
    "r_my = poses_my[..., -1][:, [0, 1, 2]]"
   ]
  },
  {
   "cell_type": "code",
   "execution_count": null,
   "metadata": {},
   "outputs": [],
   "source": [
    "plot_poses(poses_colmap, k=np.array([0.6, 0.6, 0.3]), text=poses_colmap_names, fontsize=8)"
   ]
  },
  {
   "cell_type": "code",
   "execution_count": null,
   "metadata": {},
   "outputs": [],
   "source": [
    "plot_poses(poses_my, k=[0.03, 0.03, 0.03], text=poses_my_names, fontsize=8)"
   ]
  },
  {
   "cell_type": "markdown",
   "metadata": {},
   "source": [
    "### Теперь посмотрим на преобразованные"
   ]
  },
  {
   "cell_type": "code",
   "execution_count": 315,
   "metadata": {},
   "outputs": [],
   "source": [
    "poses_colmap = []\n",
    "poses_colmap_names = []\n",
    "change_name = lambda x: x[4:].split(\"_\")[0] + \"/\" + \"_\".join(x[4:].split(\"_\")[1:])\n",
    "with open(\"/home/sevashasla/coding/datasets/tools_all/transforms.json\") as f:\n",
    "    data = json.load(f)\n",
    "    poses_colmap.extend([el['transform_matrix'] for el in data['frames']])\n",
    "    poses_colmap_names.extend([change_name(el['file_path']) for el in data['frames']])\n",
    "poses_colmap = np.array(poses_colmap)\n",
    "\n",
    "bad_idx = poses_colmap_names.index(\"test/r_0.png\")\n",
    "\n",
    "poses_colmap = np.delete(poses_colmap, bad_idx, axis=0)\n",
    "del poses_colmap_names[bad_idx]\n",
    "\n",
    "r_colmap = poses_colmap[..., -1][:, [0, 1, 2]]"
   ]
  },
  {
   "cell_type": "code",
   "execution_count": 316,
   "metadata": {},
   "outputs": [],
   "source": [
    "poses_my = []\n",
    "poses_my_names = []\n",
    "with open(\"/home/sevashasla/coding/datasets/tools/transforms.json\") as f:\n",
    "    data = json.load(f)\n",
    "    poses_my.extend([el['transform_matrix'] for el in data['frames']])\n",
    "    poses_my_names.extend([el['file_path'] for el in data['frames']])\n",
    "\n",
    "poses_my = np.array(poses_my)\n",
    "# poses_my = poses_my @ np.linalg.inv(np.array([\n",
    "#             [1, 0, 0, -0.03284863],\n",
    "#             [0, 1, 0, -0.08],\n",
    "#             [0, 0, 1, -0.08414625],\n",
    "#             [0, 0, 0, 1],\n",
    "#         ]))\n",
    "r_my = poses_my[..., -1][:, [0, 1, 2]]"
   ]
  },
  {
   "cell_type": "markdown",
   "metadata": {},
   "source": [
    "### Попробуем понять, как отличаются позы"
   ]
  },
  {
   "cell_type": "code",
   "execution_count": 317,
   "metadata": {},
   "outputs": [],
   "source": [
    "import open3d as o3d\n",
    "import copy\n",
    "import scipy"
   ]
  },
  {
   "cell_type": "code",
   "execution_count": 318,
   "metadata": {},
   "outputs": [
    {
     "data": {
      "text/plain": [
       "True"
      ]
     },
     "execution_count": 318,
     "metadata": {},
     "output_type": "execute_result"
    }
   ],
   "source": [
    "pcd_colmap = o3d.geometry.PointCloud()\n",
    "r_colmap_aboba = r_colmap.copy()\n",
    "r_colmap_aboba -= r_colmap_aboba.mean(axis=0)\n",
    "\n",
    "pcd_colmap.points = o3d.utility.Vector3dVector(r_colmap_aboba)\n",
    "o3d.io.write_point_cloud(\"./colmap.pcd\", pcd_colmap)\n",
    "\n",
    "r_my_aboba = r_my.copy()\n",
    "r_my_aboba -= r_my_aboba.mean(axis=0)\n",
    "\n",
    "pcd_my = o3d.geometry.PointCloud()\n",
    "pcd_my.points = o3d.utility.Vector3dVector(r_my_aboba)\n",
    "o3d.io.write_point_cloud(\"./my.pcd\", pcd_my)"
   ]
  },
  {
   "cell_type": "markdown",
   "metadata": {},
   "source": [
    "**Потому нужно сделать замену: x <-> -x, swap(x, y)?**"
   ]
  },
  {
   "cell_type": "code",
   "execution_count": 327,
   "metadata": {},
   "outputs": [
    {
     "data": {
      "text/plain": [
       "array([1.37958289, 1.30101477, 2.16880342, 2.65705953, 4.04035189,\n",
       "       2.86793699, 2.37582629, 1.95229133, 2.33913077, 1.03939256,\n",
       "       0.01872276, 0.03620324, 0.04830747, 0.16820813, 1.98778858,\n",
       "       0.6506133 , 1.60805649, 2.43325717, 2.19837692, 3.09563011,\n",
       "       2.90501257, 1.29926588, 0.32117627, 2.7783503 , 2.17253213,\n",
       "       1.80031802, 2.25908572, 1.89528801, 2.21940685, 1.7008617 ,\n",
       "       2.49507553, 2.14150215, 1.22411248, 1.34870386, 0.88810614,\n",
       "       2.86555958, 1.35621393, 3.96107333, 2.40195065, 3.34312524])"
      ]
     },
     "execution_count": 327,
     "metadata": {},
     "output_type": "execute_result"
    }
   ],
   "source": [
    "np.linalg.norm((poses_colmap_aboba[:, :3, :] - poses_my_aboba)[:, :3, 3], axis=1)"
   ]
  },
  {
   "cell_type": "code",
   "execution_count": 356,
   "metadata": {},
   "outputs": [
    {
     "data": {
      "text/plain": [
       "array([0.0709416 , 0.07101364, 0.01255503])"
      ]
     },
     "execution_count": 356,
     "metadata": {},
     "output_type": "execute_result"
    }
   ],
   "source": [
    "r_colmap = poses_colmap_aboba[:, :3, 3][np.argsort(poses_colmap_names)]\n",
    "r_my = poses_my_aboba[:, :3, 3][np.argsort(poses_my_names)]\n",
    "np.abs(r_colmap - r_my).mean(axis=0)"
   ]
  },
  {
   "cell_type": "code",
   "execution_count": 357,
   "metadata": {},
   "outputs": [
    {
     "data": {
      "application/vnd.plotly.v1+json": {
       "config": {
        "plotlyServerURL": "https://plot.ly"
       },
       "data": [
        {
         "marker": {
          "color": "red",
          "size": 3
         },
         "mode": "markers+text",
         "text": [
          "train/r_0.png",
          "train/r_1.png",
          "train/r_2.png",
          "train/r_3.png",
          "train/r_4.png",
          "train/r_5.png",
          "train/r_6.png",
          "train/r_7.png",
          "train/r_8.png",
          "train/r_9.png",
          "train/r_10.png",
          "train/r_11.png",
          "train/r_12.png",
          "train/r_13.png",
          "train/r_14.png",
          "train/r_15.png",
          "train/r_16.png",
          "train/r_17.png",
          "train/r_18.png",
          "train/r_19.png",
          "test/r_0.png",
          "test/r_1.png",
          "test/r_2.png",
          "test/r_3.png",
          "test/r_4.png",
          "test/r_5.png",
          "test/r_6.png",
          "test/r_7.png",
          "test/r_8.png",
          "test/r_9.png",
          "val/r_0.png",
          "val/r_1.png",
          "val/r_2.png",
          "val/r_3.png",
          "val/r_4.png",
          "val/r_5.png",
          "val/r_6.png",
          "val/r_7.png",
          "val/r_8.png",
          "val/r_9.png"
         ],
         "textfont": {
          "size": 8
         },
         "type": "scatter3d",
         "x": [
          0.741372719162336,
          0.6711806210246225,
          -0.13206827513814634,
          0.21708594653568536,
          0.295351302288303,
          -0.5090212232714317,
          -0.40255883558022587,
          -0.6087600027802553,
          -0.3576292308049709,
          0.1901299683462545,
          0.2945494161785076,
          0.1449024030559709,
          0.6560583050431852,
          -0.009191083537945843,
          -1.2484201646904385,
          0.5906255590099523,
          0.27455591624368214,
          0.7686378385301609,
          0.007483419094947319,
          1.5498898342079297,
          1.5561520062485492,
          -0.6467337051307718,
          -0.3448729077766042,
          -0.2511820109320171,
          0.7050454333620912,
          -0.20293193990889957,
          -0.09027809791098385,
          -0.21496588338385436,
          -0.9197819394765321,
          -0.6628400041673275,
          -0.6612518884004777,
          0.7999681611979756,
          0.5353978381370119,
          0.6049075344698638,
          -1.521571112059449,
          1.5039723100564286,
          -1.1007788655679729,
          -0.1601538093676207,
          -0.3294057260287402,
          -1.7328698262787694
         ],
         "y": [
          0.03955276191416682,
          -0.051214336524966306,
          -0.19358707788693943,
          2.274804668416386,
          2.5214701866267815,
          0.48199521118338473,
          -0.9851848400883487,
          -1.7486236389634615,
          -2.070865738903311,
          0.21946173624013085,
          -0.09735335038677784,
          0.5159554575195128,
          -0.04445789559284452,
          2.2322186802317647,
          -1.180853997969627,
          -0.3733225586944904,
          0.24092589812990087,
          -1.1668048555785184,
          1.0867217532333107,
          -0.19487039577316081,
          -0.19445883552198484,
          0.21490307035976383,
          -0.7327759990293223,
          1.058511388615718,
          -0.263096613866263,
          -1.53998478021385,
          -2.056418775636913,
          1.2579496282811167,
          0.204805898187894,
          -0.1538369968975499,
          -0.1530061011787731,
          -0.06583841910724664,
          -0.6609879947125535,
          0.3634225016808851,
          0.5095733269101375,
          0.3186571577000541,
          0.16221880253851542,
          -1.3843986099310335,
          1.3192274074072832,
          0.2895662772812285
         ],
         "z": [
          -0.061276656366840654,
          -0.8478454128537264,
          -1.9027540104075786,
          -0.2557583431242068,
          -0.13925809745902368,
          1.2097153909273404,
          -0.23031718053828426,
          -0.20391937159002504,
          -0.08937940578856948,
          0.03371132807000191,
          0.057542926570936626,
          0.010452559697681954,
          0.30944027845984606,
          0.24524331312413358,
          0.31648269391732026,
          0.016286893773267724,
          -0.10478129257371616,
          -0.5751189510979825,
          -0.09586610039404908,
          0.6463578857993286,
          0.6481693093333657,
          -0.023236152629013823,
          -0.4389868716184425,
          -0.1565220959626743,
          0.216818809643121,
          -0.035285262878819,
          -0.19816580296748115,
          0.5298098063224246,
          1.541109478305279,
          -1.1903083168548196,
          -1.1890334356397978,
          -0.20169937521856557,
          -0.4116951714864616,
          -0.042711164154275616,
          0.12061628661440688,
          -0.04506070776643831,
          0.8241372133178694,
          0.19807028122943315,
          0.555056396561882,
          0.9599583277031543
         ]
        },
        {
         "line": {
          "color": "red",
          "width": 2
         },
         "mode": "lines",
         "type": "scatter3d",
         "x": [
          0.741372719162336,
          0.7266567090882147
         ],
         "y": [
          0.03955276191416682,
          0.3387228537731011
         ],
         "z": [
          -0.061276656366840654,
          -0.07803061663007767
         ]
        },
        {
         "line": {
          "color": "green",
          "width": 2
         },
         "mode": "lines",
         "type": "scatter3d",
         "x": [
          0.741372719162336,
          0.7432755842899658
         ],
         "y": [
          0.03955276191416682,
          0.056419885592598515
         ],
         "z": [
          -0.061276656366840654,
          0.23824275737289574
         ]
        },
        {
         "line": {
          "color": "blue",
          "width": 2
         },
         "mode": "lines",
         "type": "scatter3d",
         "x": [
          0.741372719162336,
          1.0410055246353829
         ],
         "y": [
          0.03955276191416682,
          0.05413892919172359
         ],
         "z": [
          -0.061276656366840654,
          -0.06400164669017867
         ]
        },
        {
         "line": {
          "color": "red",
          "width": 2
         },
         "mode": "lines",
         "type": "scatter3d",
         "x": [
          0.6711806210246225,
          0.6507236596943492
         ],
         "y": [
          -0.051214336524966306,
          0.247984180687973
         ],
         "z": [
          -0.8478454128537264,
          -0.8557041678868649
         ]
        },
        {
         "line": {
          "color": "green",
          "width": 2
         },
         "mode": "lines",
         "type": "scatter3d",
         "x": [
          0.6711806210246225,
          0.775031064336906
         ],
         "y": [
          -0.051214336524966306,
          -0.036730995004087594
         ],
         "z": [
          -0.8478454128537264,
          -0.566766565897881
         ]
        },
        {
         "line": {
          "color": "blue",
          "width": 2
         },
         "mode": "lines",
         "type": "scatter3d",
         "x": [
          0.6711806210246225,
          0.951887938565185
         ],
         "y": [
          -0.051214336524966306,
          -0.03476805682761089
         ],
         "z": [
          -0.8478454128537264,
          -0.9524060255482845
         ]
        },
        {
         "line": {
          "color": "red",
          "width": 2
         },
         "mode": "lines",
         "type": "scatter3d",
         "x": [
          -0.13206827513814634,
          -0.1653888950120938
         ],
         "y": [
          -0.19358707788693943,
          0.10455367294541626
         ],
         "z": [
          -1.9027540104075786,
          -1.9014016109878014
         ]
        },
        {
         "line": {
          "color": "green",
          "width": 2
         },
         "mode": "lines",
         "type": "scatter3d",
         "x": [
          -0.13206827513814634,
          -0.0002613512546144614
         ],
         "y": [
          -0.19358707788693943,
          -0.18007707185782273
         ],
         "z": [
          -1.9027540104075786,
          -1.6335990094931718
         ]
        },
        {
         "line": {
          "color": "blue",
          "width": 2
         },
         "mode": "lines",
         "type": "scatter3d",
         "x": [
          -0.13206827513814634,
          0.13535773532347828
         ],
         "y": [
          -0.19358707788693943,
          -0.16309818761313752
         ],
         "z": [
          -1.9027540104075786,
          -2.0352446004973466
         ]
        },
        {
         "line": {
          "color": "red",
          "width": 2
         },
         "mode": "lines",
         "type": "scatter3d",
         "x": [
          0.21708594653568536,
          0.12910185951637687
         ],
         "y": [
          2.274804668416386,
          2.549101169617799
         ],
         "z": [
          -0.2557583431242068,
          -0.17197153118478709
         ]
        },
        {
         "line": {
          "color": "green",
          "width": 2
         },
         "mode": "lines",
         "type": "scatter3d",
         "x": [
          0.21708594653568536,
          0.3112890675668211
         ],
         "y": [
          2.274804668416386,
          2.2196643315092013
         ],
         "z": [
          -0.2557583431242068,
          0.02367915471555454
         ]
        },
        {
         "line": {
          "color": "blue",
          "width": 2
         },
         "mode": "lines",
         "type": "scatter3d",
         "x": [
          0.21708594653568536,
          0.4879818165359794
         ],
         "y": [
          2.274804668416386,
          2.3830681094957313
         ],
         "z": [
          -0.2557583431242068,
          -0.3257187241254671
         ]
        },
        {
         "line": {
          "color": "red",
          "width": 2
         },
         "mode": "lines",
         "type": "scatter3d",
         "x": [
          0.295351302288303,
          0.2561759913185047
         ],
         "y": [
          2.5214701866267815,
          2.8183145851652203
         ],
         "z": [
          -0.13925809745902368,
          -0.12058463858328271
         ]
        },
        {
         "line": {
          "color": "green",
          "width": 2
         },
         "mode": "lines",
         "type": "scatter3d",
         "x": [
          0.295351302288303,
          0.35908271950523785
         ],
         "y": [
          2.5214701866267815,
          2.5114505531719615
         ],
         "z": [
          -0.13925809745902368,
          0.15372298276422336
         ]
        },
        {
         "line": {
          "color": "blue",
          "width": 2
         },
         "mode": "lines",
         "type": "scatter3d",
         "x": [
          0.295351302288303,
          0.585874281472024
         ],
         "y": [
          2.5214701866267815,
          2.563695889719792
         ],
         "z": [
          -0.13925809745902368,
          -0.2010107373102482
         ]
        },
        {
         "line": {
          "color": "red",
          "width": 2
         },
         "mode": "lines",
         "type": "scatter3d",
         "x": [
          -0.5090212232714317,
          -0.5216235131232837
         ],
         "y": [
          0.48199521118338473,
          0.7816067510463327
         ],
         "z": [
          1.2097153909273404,
          1.2011068212777518
         ]
        },
        {
         "line": {
          "color": "green",
          "width": 2
         },
         "mode": "lines",
         "type": "scatter3d",
         "x": [
          -0.5090212232714317,
          -0.5846792744731312
         ],
         "y": [
          0.48199521118338473,
          0.4871526723939406
         ],
         "z": [
          1.2097153909273404,
          1.499972621407502
         ]
        },
        {
         "line": {
          "color": "blue",
          "width": 2
         },
         "mode": "lines",
         "type": "scatter3d",
         "x": [
          -0.5090212232714317,
          -0.21899184278956535
         ],
         "y": [
          0.48199521118338473,
          0.49635925569495365
         ],
         "z": [
          1.2097153909273404,
          1.2850588222689932
         ]
        },
        {
         "line": {
          "color": "red",
          "width": 2
         },
         "mode": "lines",
         "type": "scatter3d",
         "x": [
          -0.40255883558022587,
          -0.3193704581149619
         ],
         "y": [
          -0.9851848400883487,
          -0.6969673355144699
         ],
         "z": [
          -0.23031718053828426,
          -0.22709787811233006
         ]
        },
        {
         "line": {
          "color": "green",
          "width": 2
         },
         "mode": "lines",
         "type": "scatter3d",
         "x": [
          -0.40255883558022587,
          -0.3881471281590898
         ],
         "y": [
          -0.9851848400883487,
          -0.9926904896249035
         ],
         "z": [
          -0.23031718053828426,
          0.0692424427056183
         ]
        },
        {
         "line": {
          "color": "blue",
          "width": 2
         },
         "mode": "lines",
         "type": "scatter3d",
         "x": [
          -0.40255883558022587,
          -0.1146838687843118
         ],
         "y": [
          -0.9851848400883487,
          -1.0680964513509226
         ],
         "z": [
          -0.23031718053828426,
          -0.24624414439274295
         ]
        },
        {
         "line": {
          "color": "red",
          "width": 2
         },
         "mode": "lines",
         "type": "scatter3d",
         "x": [
          -0.6087600027802553,
          -0.5366935633438774
         ],
         "y": [
          -1.7486236389634615,
          -1.458127573365144
         ],
         "z": [
          -0.20391937159002504,
          -0.18346297465132036
         ]
        },
        {
         "line": {
          "color": "green",
          "width": 2
         },
         "mode": "lines",
         "type": "scatter3d",
         "x": [
          -0.6087600027802553,
          -0.6169165486420455
         ],
         "y": [
          -1.7486236389634615,
          -1.767675343101241
         ],
         "z": [
          -0.20391937159002504,
          0.09536394450519375
         ]
        },
        {
         "line": {
          "color": "blue",
          "width": 2
         },
         "mode": "lines",
         "type": "scatter3d",
         "x": [
          -0.6087600027802553,
          -0.3176588192883093
         ],
         "y": [
          -1.7486236389634615,
          -1.8210740940431918
         ],
         "z": [
          -0.20391937159002504,
          -0.2005978515923011
         ]
        },
        {
         "line": {
          "color": "red",
          "width": 2
         },
         "mode": "lines",
         "type": "scatter3d",
         "x": [
          -0.3576292308049709,
          -0.359989736865469
         ],
         "y": [
          -2.070865738903311,
          -1.7708837289941286
         ],
         "z": [
          -0.08937940578856948,
          -0.08709429267881254
         ]
        },
        {
         "line": {
          "color": "green",
          "width": 2
         },
         "mode": "lines",
         "type": "scatter3d",
         "x": [
          -0.3576292308049709,
          -0.34939671434104663
         ],
         "y": [
          -2.070865738903311,
          -2.0730852856357975
         ],
         "z": [
          -0.08937940578856948,
          0.2104994018133284
         ]
        },
        {
         "line": {
          "color": "blue",
          "width": 2
         },
         "mode": "lines",
         "type": "scatter3d",
         "x": [
          -0.3576292308049709,
          -0.05775149964166193
         ],
         "y": [
          -2.070865738903311,
          -2.0684434789946358
         ],
         "z": [
          -0.08937940578856948,
          -0.09759396439505232
         ]
        },
        {
         "line": {
          "color": "red",
          "width": 2
         },
         "mode": "lines",
         "type": "scatter3d",
         "x": [
          0.1901299683462545,
          0.1933540315887678
         ],
         "y": [
          0.21946173624013085,
          0.518964225505241
         ],
         "z": [
          0.03371132807000191,
          0.016744762714305184
         ]
        },
        {
         "line": {
          "color": "green",
          "width": 2
         },
         "mode": "lines",
         "type": "scatter3d",
         "x": [
          0.1901299683462545,
          0.18121072746239034
         ],
         "y": [
          0.21946173624013085,
          0.23651748603931608
         ],
         "z": [
          0.03371132807000191,
          0.3330932722562301
         ]
        },
        {
         "line": {
          "color": "blue",
          "width": 2
         },
         "mode": "lines",
         "type": "scatter3d",
         "x": [
          0.1901299683462545,
          0.48998001840812816
         ],
         "y": [
          0.21946173624013085,
          0.2167487447720739
         ],
         "z": [
          0.03371132807000191,
          0.042799073613580235
         ]
        },
        {
         "line": {
          "color": "red",
          "width": 2
         },
         "mode": "lines",
         "type": "scatter3d",
         "x": [
          0.2945494161785076,
          0.2384745007423839
         ],
         "y": [
          -0.09735335038677784,
          0.196782337857707
         ],
         "z": [
          0.057542926570936626,
          0.03910924113003508
         ]
        },
        {
         "line": {
          "color": "green",
          "width": 2
         },
         "mode": "lines",
         "type": "scatter3d",
         "x": [
          0.2945494161785076,
          0.28615318606268303
         ],
         "y": [
          -0.09735335038677784,
          -0.0801909950663898
         ],
         "z": [
          0.057542926570936626,
          0.35693390312765033
         ]
        },
        {
         "line": {
          "color": "blue",
          "width": 2
         },
         "mode": "lines",
         "type": "scatter3d",
         "x": [
          0.2945494161785076,
          0.5891425375213488
         ],
         "y": [
          -0.09735335038677784,
          -0.04087635984447282
         ],
         "z": [
          0.057542926570936626,
          0.06256710423927543
         ]
        },
        {
         "line": {
          "color": "red",
          "width": 2
         },
         "mode": "lines",
         "type": "scatter3d",
         "x": [
          0.1449024030559709,
          0.20117295492689014
         ],
         "y": [
          0.5159554575195128,
          0.810254367193282
         ],
         "z": [
          0.010452559697681954,
          -0.004439611228249747
         ]
        },
        {
         "line": {
          "color": "green",
          "width": 2
         },
         "mode": "lines",
         "type": "scatter3d",
         "x": [
          0.1449024030559709,
          0.13509917008918929
         ],
         "y": [
          0.5159554575195128,
          0.5329779363602
         ],
         "z": [
          0.010452559697681954,
          0.3098087552263533
         ]
        },
        {
         "line": {
          "color": "blue",
          "width": 2
         },
         "mode": "lines",
         "type": "scatter3d",
         "x": [
          0.1449024030559709,
          0.43941474843284206
         ],
         "y": [
          0.5159554575195128,
          0.460292301133403
         ],
         "z": [
          0.010452559697681954,
          0.02326237653760959
         ]
        },
        {
         "line": {
          "color": "red",
          "width": 2
         },
         "mode": "lines",
         "type": "scatter3d",
         "x": [
          0.6560583050431852,
          0.6097491427313995
         ],
         "y": [
          -0.04445789559284452,
          0.251823943422114
         ],
         "z": [
          0.30944027845984606,
          0.3009236268023889
         ]
        },
        {
         "line": {
          "color": "green",
          "width": 2
         },
         "mode": "lines",
         "type": "scatter3d",
         "x": [
          0.6560583050431852,
          0.7015039759468658
         ],
         "y": [
          -0.04445789559284452,
          -0.028842505713536436
         ],
         "z": [
          0.30944027845984606,
          0.6055666882224062
         ]
        },
        {
         "line": {
          "color": "blue",
          "width": 2
         },
         "mode": "lines",
         "type": "scatter3d",
         "x": [
          0.6560583050431852,
          0.9489578653807509
         ],
         "y": [
          -0.04445789559284452,
          -0.000036825493770077655
         ],
         "z": [
          0.30944027845984606,
          0.26214740320953356
         ]
        },
        {
         "line": {
          "color": "red",
          "width": 2
         },
         "mode": "lines",
         "type": "scatter3d",
         "x": [
          -0.009191083537945843,
          -0.06496307422544127
         ],
         "y": [
          2.2322186802317647,
          2.5267694407295744
         ],
         "z": [
          0.24524331312413358,
          0.2566158477655673
         ]
        },
        {
         "line": {
          "color": "green",
          "width": 2
         },
         "mode": "lines",
         "type": "scatter3d",
         "x": [
          -0.009191083537945843,
          0.023257927018449136
         ],
         "y": [
          2.2322186802317647,
          2.2268496617309848
         ],
         "z": [
          0.24524331312413358,
          0.5434349215205275
         ]
        },
        {
         "line": {
          "color": "blue",
          "width": 2
         },
         "mode": "lines",
         "type": "scatter3d",
         "x": [
          -0.009191083537945843,
          0.2837876643816074
         ],
         "y": [
          2.2322186802317647,
          2.2888845705928604
         ],
         "z": [
          0.24524331312413358,
          0.21438184683426317
         ]
        },
        {
         "line": {
          "color": "red",
          "width": 2
         },
         "mode": "lines",
         "type": "scatter3d",
         "x": [
          -1.2484201646904385,
          -1.2396430728956898
         ],
         "y": [
          -1.180853997969627,
          -0.8810842389011193
         ],
         "z": [
          0.31648269391732026,
          0.30866897473927984
         ]
        },
        {
         "line": {
          "color": "green",
          "width": 2
         },
         "mode": "lines",
         "type": "scatter3d",
         "x": [
          -1.2484201646904385,
          -1.2633870585463665
         ],
         "y": [
          -1.180853997969627,
          -1.172608750347013
         ],
         "z": [
          0.31648269391732026,
          0.6159956451293492
         ]
        },
        {
         "line": {
          "color": "blue",
          "width": 2
         },
         "mode": "lines",
         "type": "scatter3d",
         "x": [
          -1.2484201646904385,
          -0.948922327115981
         ],
         "y": [
          -1.180853997969627,
          -1.1892270165152932
         ],
         "z": [
          0.31648269391732026,
          0.3316793321188187
         ]
        },
        {
         "line": {
          "color": "red",
          "width": 2
         },
         "mode": "lines",
         "type": "scatter3d",
         "x": [
          0.5906255590099523,
          0.5794219297295139
         ],
         "y": [
          -0.3733225586944904,
          -0.07409571759791633
         ],
         "z": [
          0.016286893773267724,
          0.034665584101249286
         ]
        },
        {
         "line": {
          "color": "green",
          "width": 2
         },
         "mode": "lines",
         "type": "scatter3d",
         "x": [
          0.5906255590099523,
          0.6145821494642387
         ],
         "y": [
          -0.3733225586944904,
          -0.39076165279404923
         ],
         "z": [
          0.016286893773267724,
          0.3148199065787044
         ]
        },
        {
         "line": {
          "color": "blue",
          "width": 2
         },
         "mode": "lines",
         "type": "scatter3d",
         "x": [
          0.5906255590099523,
          0.8894575526595552
         ],
         "y": [
          -0.3733225586944904,
          -0.3607060788261633
         ],
         "z": [
          0.016286893773267724,
          -0.006956685359406748
         ]
        },
        {
         "line": {
          "color": "red",
          "width": 2
         },
         "mode": "lines",
         "type": "scatter3d",
         "x": [
          0.27455591624368214,
          0.30935284090847115
         ],
         "y": [
          0.24092589812990087,
          0.5227939345425244
         ],
         "z": [
          -0.10478129257371616,
          -0.2014228161443965
         ]
        },
        {
         "line": {
          "color": "green",
          "width": 2
         },
         "mode": "lines",
         "type": "scatter3d",
         "x": [
          0.27455591624368214,
          0.2676239672985119
         ],
         "y": [
          0.24092589812990087,
          0.3389635541289087
         ],
         "z": [
          -0.10478129257371616,
          0.17866282194921618
         ]
        },
        {
         "line": {
          "color": "blue",
          "width": 2
         },
         "mode": "lines",
         "type": "scatter3d",
         "x": [
          0.27455591624368214,
          0.5724503976990103
         ],
         "y": [
          0.24092589812990087,
          0.21028233347061742
         ],
         "z": [
          -0.10478129257371616,
          -0.08689694668105724
         ]
        },
        {
         "line": {
          "color": "red",
          "width": 2
         },
         "mode": "lines",
         "type": "scatter3d",
         "x": [
          0.7686378385301609,
          0.7584256653387768
         ],
         "y": [
          -1.1668048555785184,
          -0.8677341364350799
         ],
         "z": [
          -0.5751189510979825,
          -0.5963890350081674
         ]
        },
        {
         "line": {
          "color": "green",
          "width": 2
         },
         "mode": "lines",
         "type": "scatter3d",
         "x": [
          0.7686378385301609,
          0.7593534040529539
         ],
         "y": [
          -1.1668048555785184,
          -1.1458480777755486
         ],
         "z": [
          -0.5751189510979825,
          -0.2759958782592272
         ]
        },
        {
         "line": {
          "color": "blue",
          "width": 2
         },
         "mode": "lines",
         "type": "scatter3d",
         "x": [
          0.7686378385301609,
          1.068320188292358
         ],
         "y": [
          -1.1668048555785184,
          -1.1559642644941244
         ],
         "z": [
          -0.5751189510979825,
          -0.5665766569263787
         ]
        },
        {
         "line": {
          "color": "red",
          "width": 2
         },
         "mode": "lines",
         "type": "scatter3d",
         "x": [
          0.007483419094947319,
          -0.08295295038481111
         ],
         "y": [
          1.0867217532333107,
          1.3715883689322343
         ],
         "z": [
          -0.09586610039404908,
          -0.06993784682906408
         ]
        },
        {
         "line": {
          "color": "green",
          "width": 2
         },
         "mode": "lines",
         "type": "scatter3d",
         "x": [
          0.007483419094947319,
          0.020373046922301224
         ],
         "y": [
          1.0867217532333107,
          1.063614543856569
         ],
         "z": [
          -0.09586610039404908,
          0.20296481221921736
         ]
        },
        {
         "line": {
          "color": "blue",
          "width": 2
         },
         "mode": "lines",
         "type": "scatter3d",
         "x": [
          0.007483419094947319,
          0.2932370201809828
         ],
         "y": [
          1.0867217532333107,
          1.1779197144768423
         ],
         "z": [
          -0.09586610039404908,
          -0.10113974216723519
         ]
        },
        {
         "line": {
          "color": "red",
          "width": 2
         },
         "mode": "lines",
         "type": "scatter3d",
         "x": [
          1.5498898342079297,
          1.5002105762106603
         ],
         "y": [
          -0.19487039577316081,
          0.1009831431426719
         ],
         "z": [
          0.6463578857993286,
          0.6479872523371603
         ]
        },
        {
         "line": {
          "color": "green",
          "width": 2
         },
         "mode": "lines",
         "type": "scatter3d",
         "x": [
          1.5498898342079297,
          1.5392918671840723
         ],
         "y": [
          -0.19487039577316081,
          -0.1983010527697755
         ],
         "z": [
          0.6463578857993286,
          0.9461510038846108
         ]
        },
        {
         "line": {
          "color": "blue",
          "width": 2
         },
         "mode": "lines",
         "type": "scatter3d",
         "x": [
          1.5498898342079297,
          1.845557983293431
         ],
         "y": [
          -0.19487039577316081,
          -0.1452829568045573
         ],
         "z": [
          0.6463578857993286,
          0.6573774809438503
         ]
        },
        {
         "line": {
          "color": "red",
          "width": 2
         },
         "mode": "lines",
         "type": "scatter3d",
         "x": [
          1.5561520062485492,
          1.506568887900935
         ],
         "y": [
          -0.19445883552198484,
          0.10140990380860332
         ],
         "z": [
          0.6481693093333657,
          0.649959130931607
         ]
        },
        {
         "line": {
          "color": "green",
          "width": 2
         },
         "mode": "lines",
         "type": "scatter3d",
         "x": [
          1.5561520062485492,
          1.5461923352127005
         ],
         "y": [
          -0.19445883552198484,
          -0.19794161589637735
         ],
         "z": [
          0.6481693093333657,
          0.9479837105176397
         ]
        },
        {
         "line": {
          "color": "blue",
          "width": 2
         },
         "mode": "lines",
         "type": "scatter3d",
         "x": [
          1.5561520062485492,
          1.8518584811381404
         ],
         "y": [
          -0.19445883552198484,
          -0.1449658125014842
         ],
         "z": [
          0.6481693093333657,
          0.6585674507500531
         ]
        },
        {
         "line": {
          "color": "red",
          "width": 2
         },
         "mode": "lines",
         "type": "scatter3d",
         "x": [
          -0.6467337051307718,
          -0.6779658822252865
         ],
         "y": [
          0.21490307035976383,
          0.5128135903312733
         ],
         "z": [
          -0.023236152629013823,
          -0.0397852675303494
         ]
        },
        {
         "line": {
          "color": "green",
          "width": 2
         },
         "mode": "lines",
         "type": "scatter3d",
         "x": [
          -0.6467337051307718,
          -0.662279955985833
         ],
         "y": [
          0.21490307035976383,
          0.22989518596638245
         ],
         "z": [
          -0.023236152629013823,
          0.27598542165641216
         ]
        },
        {
         "line": {
          "color": "blue",
          "width": 2
         },
         "mode": "lines",
         "type": "scatter3d",
         "x": [
          -0.6467337051307718,
          -0.3487691683782706
         ],
         "y": [
          0.21490307035976383,
          0.24691179666772906
         ],
         "z": [
          -0.023236152629013823,
          -0.009358968408375704
         ]
        },
        {
         "line": {
          "color": "red",
          "width": 2
         },
         "mode": "lines",
         "type": "scatter3d",
         "x": [
          -0.3448729077766042,
          -0.2848028627391096
         ],
         "y": [
          -0.7327759990293223,
          -0.44673668794115917
         ],
         "z": [
          -0.4389868716184425,
          -0.37136215574201586
         ]
        },
        {
         "line": {
          "color": "green",
          "width": 2
         },
         "mode": "lines",
         "type": "scatter3d",
         "x": [
          -0.3448729077766042,
          -0.3583978451014067
         ],
         "y": [
          -0.7327759990293223,
          -0.7990354626372204
         ],
         "z": [
          -0.4389868716184425,
          -0.14670830668724077
         ]
        },
        {
         "line": {
          "color": "blue",
          "width": 2
         },
         "mode": "lines",
         "type": "scatter3d",
         "x": [
          -0.3448729077766042,
          -0.05125978524391184
         ],
         "y": [
          -0.7327759990293223,
          -0.7943486877355843
         ],
         "z": [
          -0.4389868716184425,
          -0.43935868897907443
         ]
        },
        {
         "line": {
          "color": "red",
          "width": 2
         },
         "mode": "lines",
         "type": "scatter3d",
         "x": [
          -0.2511820109320171,
          -0.2967497394841006
         ],
         "y": [
          1.058511388615718,
          1.3447803170396078
         ],
         "z": [
          -0.1565220959626743,
          -0.23381169895577825
         ]
        },
        {
         "line": {
          "color": "green",
          "width": 2
         },
         "mode": "lines",
         "type": "scatter3d",
         "x": [
          -0.2511820109320171,
          -0.27326153016734767
         ],
         "y": [
          1.058511388615718,
          1.1332154312790288
         ],
         "z": [
          -0.1565220959626743,
          0.13318776028346918
         ]
        },
        {
         "line": {
          "color": "blue",
          "width": 2
         },
         "mode": "lines",
         "type": "scatter3d",
         "x": [
          -0.2511820109320171,
          0.044513908736795005
         ],
         "y": [
          1.058511388615718,
          1.1082045131774896
         ],
         "z": [
          -0.1565220959626743,
          -0.14680014005004854
         ]
        },
        {
         "line": {
          "color": "red",
          "width": 2
         },
         "mode": "lines",
         "type": "scatter3d",
         "x": [
          0.7050454333620912,
          0.6756262941906102
         ],
         "y": [
          -0.263096613866263,
          0.0351357738666736
         ],
         "z": [
          0.216818809643121,
          0.23067367006654818
         ]
        },
        {
         "line": {
          "color": "green",
          "width": 2
         },
         "mode": "lines",
         "type": "scatter3d",
         "x": [
          0.7050454333620912,
          0.7200569642275686
         ],
         "y": [
          -0.263096613866263,
          -0.2755233430477472
         ],
         "z": [
          0.216818809643121,
          0.5161851910334738
         ]
        },
        {
         "line": {
          "color": "blue",
          "width": 2
         },
         "mode": "lines",
         "type": "scatter3d",
         "x": [
          0.7050454333620912,
          1.0032218377862645
         ],
         "y": [
          -0.263096613866263,
          -0.23304633418575105
         ],
         "z": [
          0.216818809643121,
          0.2031143395821156
         ]
        },
        {
         "line": {
          "color": "red",
          "width": 2
         },
         "mode": "lines",
         "type": "scatter3d",
         "x": [
          -0.20293193990889957,
          -0.12884980782350047
         ],
         "y": [
          -1.53998478021385,
          -1.2706514941622633
         ],
         "z": [
          -0.035285262878819,
          0.07412871576407455
         ]
        },
        {
         "line": {
          "color": "green",
          "width": 2
         },
         "mode": "lines",
         "type": "scatter3d",
         "x": [
          -0.20293193990889957,
          -0.22353490420862385
         ],
         "y": [
          -1.53998478021385,
          -1.6477473644184288
         ],
         "z": [
          -0.035285262878819,
          0.24393282979419273
         ]
        },
        {
         "line": {
          "color": "blue",
          "width": 2
         },
         "mode": "lines",
         "type": "scatter3d",
         "x": [
          -0.20293193990889957,
          0.08704625846399544
         ],
         "y": [
          -1.53998478021385,
          -1.6164491933098832
         ],
         "z": [
          -0.035285262878819,
          -0.04339932261101663
         ]
        },
        {
         "line": {
          "color": "red",
          "width": 2
         },
         "mode": "lines",
         "type": "scatter3d",
         "x": [
          -0.09027809791098385,
          -0.11407850442681061
         ],
         "y": [
          -2.056418775636913,
          -1.7770072875179868
         ],
         "z": [
          -0.19816580296748115,
          -0.09156955091221251
         ]
        },
        {
         "line": {
          "color": "green",
          "width": 2
         },
         "mode": "lines",
         "type": "scatter3d",
         "x": [
          -0.09027809791098385,
          -0.10467275596048302
         ],
         "y": [
          -2.056418775636913,
          -2.1642984895612605
         ],
         "z": [
          -0.19816580296748115,
          0.08139592744570329
         ]
        },
        {
         "line": {
          "color": "blue",
          "width": 2
         },
         "mode": "lines",
         "type": "scatter3d",
         "x": [
          -0.09027809791098385,
          0.20842967639889853
         ],
         "y": [
          -2.056418775636913,
          -2.039354554861164
         ],
         "z": [
          -0.19816580296748115,
          -0.1762004233915338
         ]
        },
        {
         "line": {
          "color": "red",
          "width": 2
         },
         "mode": "lines",
         "type": "scatter3d",
         "x": [
          -0.21496588338385436,
          -0.2706334238086626
         ],
         "y": [
          1.2579496282811167,
          1.5404862078334665
         ],
         "z": [
          0.5298098063224246,
          0.44570150617105214
         ]
        },
        {
         "line": {
          "color": "green",
          "width": 2
         },
         "mode": "lines",
         "type": "scatter3d",
         "x": [
          -0.21496588338385436,
          -0.24622241129166328
         ],
         "y": [
          1.2579496282811167,
          1.3374048555051885
         ],
         "z": [
          0.5298098063224246,
          0.8174030890957062
         ]
        },
        {
         "line": {
          "color": "blue",
          "width": 2
         },
         "mode": "lines",
         "type": "scatter3d",
         "x": [
          -0.21496588338385436,
          0.07816233833838948
         ],
         "y": [
          1.2579496282811167,
          1.3200781087192004
         ],
         "z": [
          0.5298098063224246,
          0.5445032576900798
         ]
        },
        {
         "line": {
          "color": "red",
          "width": 2
         },
         "mode": "lines",
         "type": "scatter3d",
         "x": [
          -0.9197819394765321,
          -0.90889498329628
         ],
         "y": [
          0.204805898187894,
          0.5045384113658172
         ],
         "z": [
          1.541109478305279,
          1.5475820920663363
         ]
        },
        {
         "line": {
          "color": "green",
          "width": 2
         },
         "mode": "lines",
         "type": "scatter3d",
         "x": [
          -0.9197819394765321,
          -0.9944199541482147
         ],
         "y": [
          0.204805898187894,
          0.20124270253822335
         ],
         "z": [
          1.541109478305279,
          1.8316546045187325
         ]
        },
        {
         "line": {
          "color": "blue",
          "width": 2
         },
         "mode": "lines",
         "type": "scatter3d",
         "x": [
          -0.9197819394765321,
          -0.6294189926068545
         ],
         "y": [
          0.204805898187894,
          0.19265171451626206
         ],
         "z": [
          1.541109478305279,
          1.6155516361761273
         ]
        },
        {
         "line": {
          "color": "red",
          "width": 2
         },
         "mode": "lines",
         "type": "scatter3d",
         "x": [
          -0.6628400041673275,
          -0.6786963912220615
         ],
         "y": [
          -0.1538369968975499,
          0.14556643972949726
         ],
         "z": [
          -1.1903083168548196,
          -1.1800050588535491
         ]
        },
        {
         "line": {
          "color": "green",
          "width": 2
         },
         "mode": "lines",
         "type": "scatter3d",
         "x": [
          -0.6628400041673275,
          -0.573434697645418
         ],
         "y": [
          -0.1538369968975499,
          -0.1589552014279085
         ],
         "z": [
          -1.1903083168548196,
          -0.9039859546266757
         ]
        },
        {
         "line": {
          "color": "blue",
          "width": 2
         },
         "mode": "lines",
         "type": "scatter3d",
         "x": [
          -0.6628400041673275,
          -0.37691122611387906
         ],
         "y": [
          -0.1538369968975499,
          -0.13563298310347754
         ],
         "z": [
          -1.1903083168548196,
          -1.279265316165805
         ]
        },
        {
         "line": {
          "color": "red",
          "width": 2
         },
         "mode": "lines",
         "type": "scatter3d",
         "x": [
          -0.6612518884004777,
          -0.6770776447030062
         ],
         "y": [
          -0.1530061011787731,
          0.14640089813034785
         ],
         "z": [
          -1.1890334356397978,
          -1.1787867677854176
         ]
        },
        {
         "line": {
          "color": "green",
          "width": 2
         },
         "mode": "lines",
         "type": "scatter3d",
         "x": [
          -0.6612518884004777,
          -0.571771531984937
         ],
         "y": [
          -0.1530061011787731,
          -0.15807453535139418
         ],
         "z": [
          -1.1890334356397978,
          -0.9027336334139129
         ]
        },
        {
         "line": {
          "color": "blue",
          "width": 2
         },
         "mode": "lines",
         "type": "scatter3d",
         "x": [
          -0.6612518884004777,
          -0.37534489090470974
         ],
         "y": [
          -0.1530061011787731,
          -0.1348468132064601
         ],
         "z": [
          -1.1890334356397978,
          -1.2780695463312524
         ]
        },
        {
         "line": {
          "color": "red",
          "width": 2
         },
         "mode": "lines",
         "type": "scatter3d",
         "x": [
          0.7999681611979756,
          0.7822888572452203
         ],
         "y": [
          -0.06583841910724664,
          0.23360820499411816
         ],
         "z": [
          -0.20169937521856557,
          -0.19732198718114446
         ]
        },
        {
         "line": {
          "color": "green",
          "width": 2
         },
         "mode": "lines",
         "type": "scatter3d",
         "x": [
          0.7999681611979756,
          0.818124798681804
         ],
         "y": [
          -0.06583841910724664,
          -0.06914362429220672
         ],
         "z": [
          -0.20169937521856557,
          0.09773244022149907
         ]
        },
        {
         "line": {
          "color": "blue",
          "width": 2
         },
         "mode": "lines",
         "type": "scatter3d",
         "x": [
          0.7999681611979756,
          1.0988958760236023
         ],
         "y": [
          -0.06583841910724664,
          -0.04792767001914902
         ],
         "z": [
          -0.20169937521856557,
          -0.21962774212681077
         ]
        },
        {
         "line": {
          "color": "red",
          "width": 2
         },
         "mode": "lines",
         "type": "scatter3d",
         "x": [
          0.5353978381370119,
          0.6073620781063873
         ],
         "y": [
          -0.6609879947125535,
          -0.37838354613767666
         ],
         "z": [
          -0.4116951714864616,
          -0.34129720414095377
         ]
        },
        {
         "line": {
          "color": "green",
          "width": 2
         },
         "mode": "lines",
         "type": "scatter3d",
         "x": [
          0.5353978381370119,
          0.5351650160087646
         ],
         "y": [
          -0.6609879947125535,
          -0.7334473902502183
         ],
         "z": [
          -0.4116951714864616,
          -0.12057735726335161
         ]
        },
        {
         "line": {
          "color": "blue",
          "width": 2
         },
         "mode": "lines",
         "type": "scatter3d",
         "x": [
          0.5353978381370119,
          0.8266384498712462
         ],
         "y": [
          -0.6609879947125535,
          -0.7308762029019293
         ],
         "z": [
          -0.4116951714864616,
          -0.4288574673509252
         ]
        },
        {
         "line": {
          "color": "red",
          "width": 2
         },
         "mode": "lines",
         "type": "scatter3d",
         "x": [
          0.6049075344698638,
          0.5256031011704175
         ],
         "y": [
          0.3634225016808851,
          0.6491946916083261
         ],
         "z": [
          -0.042711164154275616,
          -0.08793352942392442
         ]
        },
        {
         "line": {
          "color": "green",
          "width": 2
         },
         "mode": "lines",
         "type": "scatter3d",
         "x": [
          0.6049075344698638,
          0.603004270244747
         ],
         "y": [
          0.3634225016808851,
          0.409796598282087
         ],
         "z": [
          -0.042711164154275616,
          0.2536767922716543
         ]
        },
        {
         "line": {
          "color": "blue",
          "width": 2
         },
         "mode": "lines",
         "type": "scatter3d",
         "x": [
          0.6049075344698638,
          0.8942294735069636
         ],
         "y": [
          0.3634225016808851,
          0.44205899847729957
         ],
         "z": [
          -0.042711164154275616,
          -0.05315706903797539
         ]
        },
        {
         "line": {
          "color": "red",
          "width": 2
         },
         "mode": "lines",
         "type": "scatter3d",
         "x": [
          -1.521571112059449,
          -1.5690682082377894
         ],
         "y": [
          0.5095733269101375,
          0.8017188288397405
         ],
         "z": [
          0.12061628661440688,
          0.07167722700438009
         ]
        },
        {
         "line": {
          "color": "green",
          "width": 2
         },
         "mode": "lines",
         "type": "scatter3d",
         "x": [
          -1.521571112059449,
          -1.6034982469760113
         ],
         "y": [
          0.5095733269101375,
          0.5442479225213827
         ],
         "z": [
          0.12061628661440688,
          0.4071221625540103
         ]
        },
        {
         "line": {
          "color": "blue",
          "width": 2
         },
         "mode": "lines",
         "type": "scatter3d",
         "x": [
          -1.521571112059449,
          -1.2369099619478943
         ],
         "y": [
          0.5095733269101375,
          0.5682987738766138
         ],
         "z": [
          0.12061628661440688,
          0.1949086244449435
         ]
        },
        {
         "line": {
          "color": "red",
          "width": 2
         },
         "mode": "lines",
         "type": "scatter3d",
         "x": [
          1.5039723100564286,
          1.4790826091870033
         ],
         "y": [
          0.3186571577000541,
          0.6160397031515883
         ],
         "z": [
          -0.04506070776643831,
          -0.07578731595823485
         ]
        },
        {
         "line": {
          "color": "green",
          "width": 2
         },
         "mode": "lines",
         "type": "scatter3d",
         "x": [
          1.5039723100564286,
          1.4973399627406212
         ],
         "y": [
          0.3186571577000541,
          0.3489332404192502
         ],
         "z": [
          -0.04506070776643831,
          0.2533339482654666
         ]
        },
        {
         "line": {
          "color": "blue",
          "width": 2
         },
         "mode": "lines",
         "type": "scatter3d",
         "x": [
          1.5039723100564286,
          1.8028644556935418
         ],
         "y": [
          0.3186571577000541,
          0.34409296859458255
         ],
         "z": [
          -0.04506070776643831,
          -0.040998102150722734
         ]
        },
        {
         "line": {
          "color": "red",
          "width": 2
         },
         "mode": "lines",
         "type": "scatter3d",
         "x": [
          -1.1007788655679729,
          -1.1448914478987426
         ],
         "y": [
          0.16221880253851542,
          0.4581359739515317
         ],
         "z": [
          0.8241372133178694,
          0.8020666958233152
         ]
        },
        {
         "line": {
          "color": "green",
          "width": 2
         },
         "mode": "lines",
         "type": "scatter3d",
         "x": [
          -1.1007788655679729,
          -1.1680703077294428
         ],
         "y": [
          0.16221880253851542,
          0.17397487513173487
         ],
         "z": [
          0.8241372133178694,
          1.116256463852412
         ]
        },
        {
         "line": {
          "color": "blue",
          "width": 2
         },
         "mode": "lines",
         "type": "scatter3d",
         "x": [
          -1.1007788655679729,
          -0.8117703157709386
         ],
         "y": [
          0.16221880253851542,
          0.21012310735570325
         ],
         "z": [
          0.8241372133178694,
          0.8887842216664356
         ]
        },
        {
         "line": {
          "color": "red",
          "width": 2
         },
         "mode": "lines",
         "type": "scatter3d",
         "x": [
          -0.1601538093676207,
          -0.14321876720726512
         ],
         "y": [
          -1.3843986099310335,
          -1.0994439323308423
         ],
         "z": [
          0.19807028122943315,
          0.2903418156102531
         ]
        },
        {
         "line": {
          "color": "green",
          "width": 2
         },
         "mode": "lines",
         "type": "scatter3d",
         "x": [
          -0.1601538093676207,
          -0.20339280211988325
         ],
         "y": [
          -1.3843986099310335,
          -1.4735235974155965
         ],
         "z": [
          0.19807028122943315,
          0.48124359578864295
         ]
        },
        {
         "line": {
          "color": "blue",
          "width": 2
         },
         "mode": "lines",
         "type": "scatter3d",
         "x": [
          -0.1601538093676207,
          0.13623039030679002
         ],
         "y": [
          -1.3843986099310335,
          -1.4136828773721528
         ],
         "z": [
          0.19807028122943315,
          0.2341096739590523
         ]
        },
        {
         "line": {
          "color": "red",
          "width": 2
         },
         "mode": "lines",
         "type": "scatter3d",
         "x": [
          -0.3294057260287402,
          -0.36776281477060385
         ],
         "y": [
          1.3192274074072832,
          1.602086471078963
         ],
         "z": [
          0.555056396561882,
          0.462755346522601
         ]
        },
        {
         "line": {
          "color": "green",
          "width": 2
         },
         "mode": "lines",
         "type": "scatter3d",
         "x": [
          -0.3294057260287402,
          -0.3986576347743145
         ],
         "y": [
          1.3192274074072832,
          1.4012492229663494
         ],
         "z": [
          0.555056396561882,
          0.8351931397323855
         ]
        },
        {
         "line": {
          "color": "blue",
          "width": 2
         },
         "mode": "lines",
         "type": "scatter3d",
         "x": [
          -0.3294057260287402,
          -0.04003933744466909
         ],
         "y": [
          1.3192274074072832,
          1.3763515867982428
         ],
         "z": [
          0.555056396561882,
          0.6098644365854883
         ]
        },
        {
         "line": {
          "color": "red",
          "width": 2
         },
         "mode": "lines",
         "type": "scatter3d",
         "x": [
          -1.7328698262787694,
          -1.7255983189444108
         ],
         "y": [
          0.2895662772812285,
          0.5894734560571213
         ],
         "z": [
          0.9599583277031543,
          0.961634424233668
         ]
        },
        {
         "line": {
          "color": "green",
          "width": 2
         },
         "mode": "lines",
         "type": "scatter3d",
         "x": [
          -1.7328698262787694,
          -1.852608548192359
         ],
         "y": [
          0.2895662772812285,
          0.29093218472156723
         ],
         "z": [
          0.9599583277031543,
          1.2350233613500081
         ]
        },
        {
         "line": {
          "color": "blue",
          "width": 2
         },
         "mode": "lines",
         "type": "scatter3d",
         "x": [
          -1.7328698262787694,
          -1.4578975301843615
         ],
         "y": [
          0.2895662772812285,
          0.2822301737197556
         ],
         "z": [
          0.9599583277031543,
          1.079693109320842
         ]
        },
        {
         "marker": {
          "color": "blue",
          "size": 3
         },
         "mode": "markers+text",
         "text": [
          "test/r_1.png",
          "test/r_2.png",
          "test/r_3.png",
          "test/r_4.png",
          "test/r_5.png",
          "test/r_6.png",
          "test/r_7.png",
          "test/r_9.png",
          "train/r_0.png",
          "train/r_1.png",
          "train/r_10.png",
          "train/r_11.png",
          "train/r_12.png",
          "train/r_13.png",
          "train/r_15.png",
          "train/r_16.png",
          "train/r_17.png",
          "train/r_18.png",
          "train/r_19.png",
          "train/r_2.png",
          "train/r_3.png",
          "train/r_5.png",
          "train/r_6.png",
          "train/r_7.png",
          "train/r_8.png",
          "train/r_9.png",
          "val/r_0.png",
          "val/r_1.png",
          "val/r_3.png",
          "val/r_4.png",
          "val/r_5.png",
          "val/r_6.png",
          "val/r_7.png",
          "val/r_8.png",
          "val/r_9.png",
          "test/r_8.png",
          "train/r_14.png",
          "train/r_4.png",
          "val/r_2.png",
          "test/r_0.png"
         ],
         "textfont": {
          "size": 8
         },
         "type": "scatter3d",
         "x": [
          -0.6171765778992726,
          -0.4001510053085582,
          -0.150190983839269,
          0.6777477850048355,
          -0.3270461829909954,
          -0.25147140871598417,
          -0.09820785536607923,
          -0.7016980320088981,
          0.7466152172064859,
          0.6296749621570816,
          0.2997172224729736,
          0.18052234961477787,
          0.6345795212690417,
          0.15747736535633194,
          0.5519754365168721,
          0.2850842669124729,
          0.6777157797358431,
          0.10049753835265163,
          1.535238155030247,
          -0.1946360838781751,
          0.3748439668656127,
          -0.447308102220902,
          -0.5043386961495488,
          -0.7604619232750833,
          -0.5327417444943414,
          0.21022566908286056,
          -0.6977716044092905,
          0.7905354248599918,
          0.6456969880613697,
          -1.4386412771624157,
          1.536261210786722,
          -1.0582799767139335,
          -0.25797413059720586,
          -0.19494549259924288,
          -1.671244480262553,
          -0.8801241376795406,
          -1.3416062254436913,
          0.47681872483290455,
          0.4742387740842222,
          1.540549562811596
         ],
         "y": [
          0.2745493050095032,
          -0.6694423847841975,
          1.061931698597359,
          -0.2974351048614098,
          -1.4696911654520324,
          -1.985383360924221,
          1.2402872067116242,
          -0.07027279602713091,
          -0.008973200362503847,
          -0.09205743970395794,
          -0.11234614913659777,
          0.5095135617070438,
          -0.08770219169397014,
          2.2510306145678807,
          -0.393164056758475,
          0.19102600072781392,
          -1.2337330893428613,
          1.1205093430546282,
          -0.3062674435207381,
          -0.15814631672199855,
          2.305144017710848,
          0.5212819478289362,
          -0.9391259868262694,
          -1.671780494743933,
          -2.0149025156716887,
          0.2106159160847258,
          -0.12421475020188469,
          -0.17084709988066346,
          0.2553078073991534,
          0.573138792516839,
          0.13456511256270665,
          0.20076572478868743,
          -1.3806943053751024,
          1.254284627380279,
          0.3846553143884356,
          0.2849875795955406,
          -1.0641290189528634,
          2.511950493024016,
          -0.7223905035758879,
          -0.31284568913763444
         ],
         "z": [
          -0.01260041493147969,
          -0.4445067695583885,
          -0.13440663045310003,
          0.2252183145909426,
          -0.05153216236179824,
          -0.22930290899783734,
          0.5437598120681303,
          -1.1968657054860228,
          -0.06152048511220436,
          -0.855160374275509,
          0.06749538050870012,
          0.009823546009174289,
          0.3109250428433372,
          0.25795999502636163,
          0.017444756409393927,
          -0.09073126624537094,
          -0.6034682374308045,
          -0.08265294671715638,
          0.6514006775745624,
          -1.9106337948488297,
          -0.24379197077776482,
          1.2235409919540219,
          -0.25151809689503496,
          -0.2298062873531923,
          -0.12807948877960185,
          0.04115411614402461,
          -1.1986694324927276,
          -0.2047810224038143,
          -0.03130651231741903,
          0.13730951130332888,
          -0.042891701223274334,
          0.8287701966834833,
          0.18078699207914092,
          0.5782573677095753,
          0.98706067937305,
          1.5443990071279734,
          0.29745949365636537,
          -0.12260334992595771,
          -0.422347690945012,
          0.6464113684707339
         ]
        },
        {
         "line": {
          "color": "red",
          "width": 2
         },
         "mode": "lines",
         "type": "scatter3d",
         "x": [
          -0.6171765778992726,
          -0.6253885197368576
         ],
         "y": [
          0.2745493050095032,
          0.573931052425439
         ],
         "z": [
          -0.01260041493147969,
          -0.030011145644989995
         ]
        },
        {
         "line": {
          "color": "green",
          "width": 2
         },
         "mode": "lines",
         "type": "scatter3d",
         "x": [
          -0.6171765778992726,
          -0.6322630797922631
         ],
         "y": [
          0.2745493050095032,
          0.2915320863425587
         ],
         "z": [
          -0.01260041493147969,
          0.28653832297309256
         ]
        },
        {
         "line": {
          "color": "blue",
          "width": 2
         },
         "mode": "lines",
         "type": "scatter3d",
         "x": [
          -0.6171765778992726,
          -0.31766870947566633
         ],
         "y": [
          0.2745493050095032,
          0.2836132262202308
         ],
         "z": [
          -0.01260041493147969,
          0.0019901243428570303
         ]
        },
        {
         "line": {
          "color": "red",
          "width": 2
         },
         "mode": "lines",
         "type": "scatter3d",
         "x": [
          -0.4001510053085582,
          -0.3185217999587231
         ],
         "y": [
          -0.6694423847841975,
          -0.3886976408085782
         ],
         "z": [
          -0.4445067695583885,
          -0.3772828227236006
         ]
        },
        {
         "line": {
          "color": "green",
          "width": 2
         },
         "mode": "lines",
         "type": "scatter3d",
         "x": [
          -0.4001510053085582,
          -0.4187374191866086
         ],
         "y": [
          -0.6694423847841975,
          -0.7340460860574595
         ],
         "z": [
          -0.4445067695583885,
          -0.15213559195697401
         ]
        },
        {
         "line": {
          "color": "blue",
          "width": 2
         },
         "mode": "lines",
         "type": "scatter3d",
         "x": [
          -0.4001510053085582,
          -0.11206904476072771
         ],
         "y": [
          -0.6694423847841975,
          -0.7531606502809026
         ],
         "z": [
          -0.4445067695583885,
          -0.4446918101157368
         ]
        },
        {
         "line": {
          "color": "red",
          "width": 2
         },
         "mode": "lines",
         "type": "scatter3d",
         "x": [
          -0.150190983839269,
          -0.17357171317741293
         ],
         "y": [
          1.061931698597359,
          1.350663935190325
         ],
         "z": [
          -0.13440663045310003,
          -0.21242606329019542
         ]
        },
        {
         "line": {
          "color": "green",
          "width": 2
         },
         "mode": "lines",
         "type": "scatter3d",
         "x": [
          -0.150190983839269,
          -0.16664134381203366
         ],
         "y": [
          1.061931698597359,
          1.1388292373702325
         ],
         "z": [
          -0.13440663045310003,
          0.15510355523306046
         ]
        },
        {
         "line": {
          "color": "blue",
          "width": 2
         },
         "mode": "lines",
         "type": "scatter3d",
         "x": [
          -0.150190983839269,
          0.14844378435826522
         ],
         "y": [
          1.061931698597359,
          1.0887730651064156
         ],
         "z": [
          -0.13440663045310003,
          -0.12456720733719723
         ]
        },
        {
         "line": {
          "color": "red",
          "width": 2
         },
         "mode": "lines",
         "type": "scatter3d",
         "x": [
          0.6777477850048355,
          0.6703691647861412
         ],
         "y": [
          -0.2974351048614098,
          0.00219780510017753
         ],
         "z": [
          0.2252183145909426,
          0.23808980263243074
         ]
        },
        {
         "line": {
          "color": "green",
          "width": 2
         },
         "mode": "lines",
         "type": "scatter3d",
         "x": [
          0.6777477850048355,
          0.6911866234777477
         ],
         "y": [
          -0.2974351048614098,
          -0.309967226140095
         ],
         "z": [
          0.2252183145909426,
          0.5246550249072188
         ]
        },
        {
         "line": {
          "color": "blue",
          "width": 2
         },
         "mode": "lines",
         "type": "scatter3d",
         "x": [
          0.6777477850048355,
          0.9773557847838983
         ],
         "y": [
          -0.2974351048614098,
          -0.2894937462560827
         ],
         "z": [
          0.2252183145909426,
          0.21210415290336096
         ]
        },
        {
         "line": {
          "color": "red",
          "width": 2
         },
         "mode": "lines",
         "type": "scatter3d",
         "x": [
          -0.3270461829909954,
          -0.23285643197158942
         ],
         "y": [
          -1.4696911654520324,
          -1.206588175935393
         ],
         "z": [
          -0.05153216236179824,
          0.057578385454608305
         ]
        },
        {
         "line": {
          "color": "green",
          "width": 2
         },
         "mode": "lines",
         "type": "scatter3d",
         "x": [
          -0.3270461829909954,
          -0.3553861507515661
         ],
         "y": [
          -1.4696911654520324,
          -1.5753857635239708
         ],
         "z": [
          -0.05153216236179824,
          0.22779828867848573
         ]
        },
        {
         "line": {
          "color": "blue",
          "width": 2
         },
         "mode": "lines",
         "type": "scatter3d",
         "x": [
          -0.3270461829909954,
          -0.043629282797829405
         ],
         "y": [
          -1.4696911654520324,
          -1.5676986793565537
         ],
         "z": [
          -0.05153216236179824,
          -0.05986221390713387
         ]
        },
        {
         "line": {
          "color": "red",
          "width": 2
         },
         "mode": "lines",
         "type": "scatter3d",
         "x": [
          -0.25147140871598417,
          -0.2540127191725183
         ],
         "y": [
          -1.985383360924221,
          -1.7046652052747504
         ],
         "z": [
          -0.22930290899783734,
          -0.12351608707342165
         ]
        },
        {
         "line": {
          "color": "green",
          "width": 2
         },
         "mode": "lines",
         "type": "scatter3d",
         "x": [
          -0.25147140871598417,
          -0.2739321000741583
         ],
         "y": [
          -1.985383360924221,
          -2.091055091583788
         ],
         "z": [
          -0.22930290899783734,
          0.05057026526516145
         ]
        },
        {
         "line": {
          "color": "blue",
          "width": 2
         },
         "mode": "lines",
         "type": "scatter3d",
         "x": [
          -0.25147140871598417,
          0.047675807873531206
         ],
         "y": [
          -1.985383360924221,
          -1.9909327081089505
         ],
         "z": [
          -0.22930290899783734,
          -0.2073906825500904
         ]
        },
        {
         "line": {
          "color": "red",
          "width": 2
         },
         "mode": "lines",
         "type": "scatter3d",
         "x": [
          -0.09820785536607923,
          -0.13121585676936026
         ],
         "y": [
          1.2402872067116242,
          1.5260796677545363
         ],
         "z": [
          0.5437598120681303,
          0.4587119303164664
         ]
        },
        {
         "line": {
          "color": "green",
          "width": 2
         },
         "mode": "lines",
         "type": "scatter3d",
         "x": [
          -0.09820785536607923,
          -0.1224139323887344
         ],
         "y": [
          1.2402872067116242,
          1.3230039079350224
         ],
         "z": [
          0.5437598120681303,
          0.831113278319864
         ]
        },
        {
         "line": {
          "color": "blue",
          "width": 2
         },
         "mode": "lines",
         "type": "scatter3d",
         "x": [
          -0.09820785536607923,
          0.1989865898680575
         ],
         "y": [
          1.2402872067116242,
          1.278766001940523
         ],
         "z": [
          0.5437598120681303,
          0.5577184847419162
         ]
        },
        {
         "line": {
          "color": "red",
          "width": 2
         },
         "mode": "lines",
         "type": "scatter3d",
         "x": [
          -0.7016980320088981,
          -0.6956333010250656
         ],
         "y": [
          -0.07027279602713091,
          0.22948118028513545
         ],
         "z": [
          -1.1968657054860228,
          -1.1863408422646138
         ]
        },
        {
         "line": {
          "color": "green",
          "width": 2
         },
         "mode": "lines",
         "type": "scatter3d",
         "x": [
          -0.7016980320088981,
          -0.6134229460502807
         ],
         "y": [
          -0.07027279602713091,
          -0.08211738205931576
         ],
         "z": [
          -1.1968657054860228,
          -0.9103919451739819
         ]
        },
        {
         "line": {
          "color": "blue",
          "width": 2
         },
         "mode": "lines",
         "type": "scatter3d",
         "x": [
          -0.7016980320088981,
          -0.415043660701691
         ],
         "y": [
          -0.07027279602713091,
          -0.07296713992028607
         ],
         "z": [
          -1.1968657054860228,
          -1.2853078462963956
         ]
        },
        {
         "line": {
          "color": "red",
          "width": 2
         },
         "mode": "lines",
         "type": "scatter3d",
         "x": [
          0.7466152172064859,
          0.7544739466727777
         ],
         "y": [
          -0.008973200362503847,
          0.29051127727954973
         ],
         "z": [
          -0.06152048511220436,
          -0.07724588585436548
         ]
        },
        {
         "line": {
          "color": "green",
          "width": 2
         },
         "mode": "lines",
         "type": "scatter3d",
         "x": [
          0.7466152172064859,
          0.7500595274615737
         ],
         "y": [
          -0.008973200362503847,
          0.0066664273361382136
         ],
         "z": [
          -0.06152048511220436,
          0.23805177586342924
         ]
        },
        {
         "line": {
          "color": "blue",
          "width": 2
         },
         "mode": "lines",
         "type": "scatter3d",
         "x": [
          0.7466152172064859,
          1.0464924884343165
         ],
         "y": [
          -0.008973200362503847,
          -0.017001269712483114
         ],
         "z": [
          -0.06152048511220436,
          -0.06454918490255707
         ]
        },
        {
         "line": {
          "color": "red",
          "width": 2
         },
         "mode": "lines",
         "type": "scatter3d",
         "x": [
          0.6296749621570816,
          0.6318399498208008
         ],
         "y": [
          -0.09205743970395794,
          0.20787012720676448
         ],
         "z": [
          -0.855160374275509,
          -0.8613867237861544
         ]
        },
        {
         "line": {
          "color": "green",
          "width": 2
         },
         "mode": "lines",
         "type": "scatter3d",
         "x": [
          0.6296749621570816,
          0.7344469360256464
         ],
         "y": [
          -0.09205743970395794,
          -0.08697896897556542
         ],
         "z": [
          -0.855160374275509,
          -0.5740962506601839
         ]
        },
        {
         "line": {
          "color": "blue",
          "width": 2
         },
         "mode": "lines",
         "type": "scatter3d",
         "x": [
          0.6296749621570816,
          0.910776625753505
         ],
         "y": [
          -0.09205743970395794,
          -0.0962602641752807
         ],
         "z": [
          -0.855160374275509,
          -0.959870402185289
         ]
        },
        {
         "line": {
          "color": "red",
          "width": 2
         },
         "mode": "lines",
         "type": "scatter3d",
         "x": [
          0.2997172224729736,
          0.2664896164678217
         ],
         "y": [
          -0.11234614913659777,
          0.18519425379160367
         ],
         "z": [
          0.06749538050870012,
          0.04837377973228177
         ]
        },
        {
         "line": {
          "color": "green",
          "width": 2
         },
         "mode": "lines",
         "type": "scatter3d",
         "x": [
          0.2997172224729736,
          0.29197725940402414
         ],
         "y": [
          -0.11234614913659777,
          -0.09397345210134181
         ],
         "z": [
          0.06749538050870012,
          0.3668322111405081
         ]
        },
        {
         "line": {
          "color": "blue",
          "width": 2
         },
         "mode": "lines",
         "type": "scatter3d",
         "x": [
          0.2997172224729736,
          0.5977709438045733
         ],
         "y": [
          -0.11234614913659777,
          -0.07869866149594744
         ],
         "z": [
          0.06749538050870012,
          0.0731369517451283
         ]
        },
        {
         "line": {
          "color": "red",
          "width": 2
         },
         "mode": "lines",
         "type": "scatter3d",
         "x": [
          0.18052234961477787,
          0.25893932163009453
         ],
         "y": [
          0.5095135617070438,
          0.7986674939247203
         ],
         "z": [
          0.009823546009174289,
          -0.005693575928133462
         ]
        },
        {
         "line": {
          "color": "green",
          "width": 2
         },
         "mode": "lines",
         "type": "scatter3d",
         "x": [
          0.18052234961477787,
          0.17352784073579774
         ],
         "y": [
          0.5095135617070438,
          0.5274763312417474
         ],
         "z": [
          0.009823546009174289,
          0.3092035979413578
         ]
        },
        {
         "line": {
          "color": "blue",
          "width": 2
         },
         "mode": "lines",
         "type": "scatter3d",
         "x": [
          0.18052234961477787,
          0.4700078488080857
         ],
         "y": [
          0.5095135617070438,
          0.43162042022539715
         ],
         "z": [
          0.009823546009174289,
          0.0212604655399231
         ]
        },
        {
         "line": {
          "color": "red",
          "width": 2
         },
         "mode": "lines",
         "type": "scatter3d",
         "x": [
          0.6345795212690417,
          0.6105277974447794
         ],
         "y": [
          -0.08770219169397014,
          0.21119977311176807
         ],
         "z": [
          0.3109250428433372,
          0.3020295628851601
         ]
        },
        {
         "line": {
          "color": "green",
          "width": 2
         },
         "mode": "lines",
         "type": "scatter3d",
         "x": [
          0.6345795212690417,
          0.6809083818092274
         ],
         "y": [
          -0.08770219169397014,
          -0.07516109500784243
         ],
         "z": [
          0.3109250428433372,
          0.6070607504874734
         ]
        },
        {
         "line": {
          "color": "blue",
          "width": 2
         },
         "mode": "lines",
         "type": "scatter3d",
         "x": [
          0.6345795212690417,
          0.9300032012870656
         ],
         "y": [
          -0.08770219169397014,
          -0.06533400272043695
         ],
         "z": [
          0.3109250428433372,
          0.26376030076612544
         ]
        },
        {
         "line": {
          "color": "red",
          "width": 2
         },
         "mode": "lines",
         "type": "scatter3d",
         "x": [
          0.15747736535633194,
          0.12455988873763847
         ],
         "y": [
          2.2510306145678807,
          2.5490709232007736
         ],
         "z": [
          0.25795999502636163,
          0.26736290367956966
         ]
        },
        {
         "line": {
          "color": "green",
          "width": 2
         },
         "mode": "lines",
         "type": "scatter3d",
         "x": [
          0.15747736535633194,
          0.1891544234500795
         ],
         "y": [
          2.2510306145678807,
          2.2451192546310343
         ],
         "z": [
          0.25795999502636163,
          0.5562243406013875
         ]
        },
        {
         "line": {
          "color": "blue",
          "width": 2
         },
         "mode": "lines",
         "type": "scatter3d",
         "x": [
          0.15747736535633194,
          0.45397863718100884
         ],
         "y": [
          2.2510306145678807,
          2.284750501612128
         ],
         "z": [
          0.25795999502636163,
          0.22713848425886685
         ]
        },
        {
         "line": {
          "color": "red",
          "width": 2
         },
         "mode": "lines",
         "type": "scatter3d",
         "x": [
          0.5519754365168721,
          0.5630114958741781
         ],
         "y": [
          -0.393164056758475,
          -0.09389785518070431
         ],
         "z": [
          0.017444756409393927,
          0.035275802170741596
         ]
        },
        {
         "line": {
          "color": "green",
          "width": 2
         },
         "mode": "lines",
         "type": "scatter3d",
         "x": [
          0.5519754365168721,
          0.5742223050554189
         ],
         "y": [
          -0.393164056758475,
          -0.4117754818512632
         ],
         "z": [
          0.017444756409393927,
          0.3160392839913767
         ]
        },
        {
         "line": {
          "color": "blue",
          "width": 2
         },
         "mode": "lines",
         "type": "scatter3d",
         "x": [
          0.5519754365168721,
          0.8509458068611613
         ],
         "y": [
          -0.393164056758475,
          -0.4028261298000772
         ],
         "z": [
          0.017444756409393927,
          -0.005432352038340298
         ]
        },
        {
         "line": {
          "color": "red",
          "width": 2
         },
         "mode": "lines",
         "type": "scatter3d",
         "x": [
          0.2850842669124729,
          0.34103057872438713
         ],
         "y": [
          0.19102600072781392,
          0.4707270208038826
         ],
         "z": [
          -0.09073126624537094,
          -0.18366860611582225
         ]
        },
        {
         "line": {
          "color": "green",
          "width": 2
         },
         "mode": "lines",
         "type": "scatter3d",
         "x": [
          0.2850842669124729,
          0.28613383147630117
         ],
         "y": [
          0.19102600072781392,
          0.28543316313325284
         ],
         "z": [
          -0.09073126624537094,
          0.19402509585488253
         ]
        },
        {
         "line": {
          "color": "blue",
          "width": 2
         },
         "mode": "lines",
         "type": "scatter3d",
         "x": [
          0.2850842669124729,
          0.5798195862312644
         ],
         "y": [
          0.19102600072781392,
          0.1375972946170863
         ],
         "z": [
          -0.09073126624537094,
          -0.07410403814904155
         ]
        },
        {
         "line": {
          "color": "red",
          "width": 2
         },
         "mode": "lines",
         "type": "scatter3d",
         "x": [
          0.6777157797358431,
          0.6905633480604345
         ],
         "y": [
          -1.2337330893428613,
          -0.9344695472689599
         ],
         "z": [
          -0.6034682374308045,
          -0.6200896722047404
         ]
        },
        {
         "line": {
          "color": "green",
          "width": 2
         },
         "mode": "lines",
         "type": "scatter3d",
         "x": [
          0.6777157797358431,
          0.6710993770729576
         ],
         "y": [
          -1.2337330893428613,
          -1.216817271833258
         ],
         "z": [
          -0.6034682374308045,
          -0.30401861369552247
         ]
        },
        {
         "line": {
          "color": "blue",
          "width": 2
         },
         "mode": "lines",
         "type": "scatter3d",
         "x": [
          0.6777157797358431,
          0.9773675143196101
         ],
         "y": [
          -1.2337330893428613,
          -1.246190506080291
         ],
         "z": [
          -0.6034682374308045,
          -0.596143652964546
         ]
        },
        {
         "line": {
          "color": "red",
          "width": 2
         },
         "mode": "lines",
         "type": "scatter3d",
         "x": [
          0.10049753835265163,
          0.03222661371053365
         ],
         "y": [
          1.1205093430546282,
          1.4116499527675184
         ],
         "z": [
          -0.08265294671715638,
          -0.05864822189910819
         ]
        },
        {
         "line": {
          "color": "green",
          "width": 2
         },
         "mode": "lines",
         "type": "scatter3d",
         "x": [
          0.10049753835265163,
          0.10998231886648423
         ],
         "y": [
          1.1205093430546282,
          1.0980799161983434
         ],
         "z": [
          -0.08265294671715638,
          0.21635701947110164
         ]
        },
        {
         "line": {
          "color": "blue",
          "width": 2
         },
         "mode": "lines",
         "type": "scatter3d",
         "x": [
          0.10049753835265163,
          0.3924720584081388
         ],
         "y": [
          1.1205093430546282,
          1.1893138979841555
         ],
         "z": [
          -0.08265294671715638,
          -0.08675337081658878
         ]
        },
        {
         "line": {
          "color": "red",
          "width": 2
         },
         "mode": "lines",
         "type": "scatter3d",
         "x": [
          1.535238155030247,
          1.5080952962934073
         ],
         "y": [
          -0.3062674435207381,
          -0.007499717602360456
         ],
         "z": [
          0.6514006775745624,
          0.6524545697012842
         ]
        },
        {
         "line": {
          "color": "green",
          "width": 2
         },
         "mode": "lines",
         "type": "scatter3d",
         "x": [
          1.535238155030247,
          1.5242461285649658
         ],
         "y": [
          -0.3062674435207381,
          -0.3083235684362493
         ],
         "z": [
          0.6514006775745624,
          0.9511921821841535
         ]
        },
        {
         "line": {
          "color": "blue",
          "width": 2
         },
         "mode": "lines",
         "type": "scatter3d",
         "x": [
          1.535238155030247,
          1.8338054651006148
         ],
         "y": [
          -0.3062674435207381,
          -0.2791820635248798
         ],
         "z": [
          0.6514006775745624,
          0.662533583867073
         ]
        },
        {
         "line": {
          "color": "red",
          "width": 2
         },
         "mode": "lines",
         "type": "scatter3d",
         "x": [
          -0.1946360838781751,
          -0.20508412180103344
         ],
         "y": [
          -0.15814631672199855,
          0.14165361897647158
         ],
         "z": [
          -1.9106337948488297,
          -1.9073418162421991
         ]
        },
        {
         "line": {
          "color": "green",
          "width": 2
         },
         "mode": "lines",
         "type": "scatter3d",
         "x": [
          -0.1946360838781751,
          -0.062423615669962296
         ],
         "y": [
          -0.15814631672199855,
          -0.15649567239193501
         ],
         "z": [
          -1.9106337948488297,
          -1.6413437181396895
         ]
        },
        {
         "line": {
          "color": "blue",
          "width": 2
         },
         "mode": "lines",
         "type": "scatter3d",
         "x": [
          -0.1946360838781751,
          0.0744562954292336
         ],
         "y": [
          -0.15814631672199855,
          -0.14731700535390105
         ],
         "z": [
          -1.9106337948488297,
          -2.042815579762667
         ]
        },
        {
         "line": {
          "color": "red",
          "width": 2
         },
         "mode": "lines",
         "type": "scatter3d",
         "x": [
          0.3748439668656127,
          0.30770796213416807
         ],
         "y": [
          2.305144017710848,
          2.5857308670965553
         ],
         "z": [
          -0.24379197077776482,
          -0.16154976830240683
         ]
        },
        {
         "line": {
          "color": "green",
          "width": 2
         },
         "mode": "lines",
         "type": "scatter3d",
         "x": [
          0.3748439668656127,
          0.4631284192301912
         ],
         "y": [
          2.305144017710848,
          2.2441526834059564
         ],
         "z": [
          -0.24379197077776482,
          0.036361405960592896
         ]
        },
        {
         "line": {
          "color": "blue",
          "width": 2
         },
         "mode": "lines",
         "type": "scatter3d",
         "x": [
          0.3748439668656127,
          0.6535886786269054
         ],
         "y": [
          2.305144017710848,
          2.392040968861704
         ],
         "z": [
          -0.24379197077776482,
          -0.3127144480387015
         ]
        },
        {
         "line": {
          "color": "red",
          "width": 2
         },
         "mode": "lines",
         "type": "scatter3d",
         "x": [
          -0.447308102220902,
          -0.4356398555677759
         ],
         "y": [
          0.5212819478289362,
          0.8208960133869823
         ],
         "z": [
          1.2235409919540219,
          1.2137806703740173
         ]
        },
        {
         "line": {
          "color": "green",
          "width": 2
         },
         "mode": "lines",
         "type": "scatter3d",
         "x": [
          -0.447308102220902,
          -0.5218613631594087
         ],
         "y": [
          0.5212819478289362,
          0.5336431077806639
         ],
         "z": [
          1.2235409919540219,
          1.5138667049643688
         ]
        },
        {
         "line": {
          "color": "blue",
          "width": 2
         },
         "mode": "lines",
         "type": "scatter3d",
         "x": [
          -0.447308102220902,
          -0.15695371536682634
         ],
         "y": [
          0.5212819478289362,
          0.5124155185446565
         ],
         "z": [
          1.2235409919540219,
          1.2984791206767008
         ]
        },
        {
         "line": {
          "color": "red",
          "width": 2
         },
         "mode": "lines",
         "type": "scatter3d",
         "x": [
          -0.5043386961495488,
          -0.39907390559313083
         ],
         "y": [
          -0.9391259868262694,
          -0.658278269448173
         ],
         "z": [
          -0.25151809689503496,
          -0.24489378611854393
         ]
        },
        {
         "line": {
          "color": "green",
          "width": 2
         },
         "mode": "lines",
         "type": "scatter3d",
         "x": [
          -0.5043386961495488,
          -0.49042910682574525
         ],
         "y": [
          -0.9391259868262694,
          -0.9514019612806927
         ],
         "z": [
          -0.25151809689503496,
          0.04790772643092395
         ]
        },
        {
         "line": {
          "color": "blue",
          "width": 2
         },
         "mode": "lines",
         "type": "scatter3d",
         "x": [
          -0.5043386961495488,
          -0.22375743318299623
         ],
         "y": [
          -0.9391259868262694,
          -1.0438821707899337
         ],
         "z": [
          -0.25151809689503496,
          -0.26884711225779195
         ]
        },
        {
         "line": {
          "color": "red",
          "width": 2
         },
         "mode": "lines",
         "type": "scatter3d",
         "x": [
          -0.7604619232750833,
          -0.6670140070383572
         ],
         "y": [
          -1.671780494743933,
          -1.3878312933126655
         ],
         "z": [
          -0.2298062873531923,
          -0.20450145951943277
         ]
        },
        {
         "line": {
          "color": "green",
          "width": 2
         },
         "mode": "lines",
         "type": "scatter3d",
         "x": [
          -0.7604619232750833,
          -0.7707848941881047
         ],
         "y": [
          -1.671780494743933,
          -1.6950221926499154
         ],
         "z": [
          -0.2298062873531923,
          0.06911386723649982
         ]
        },
        {
         "line": {
          "color": "blue",
          "width": 2
         },
         "mode": "lines",
         "type": "scatter3d",
         "x": [
          -0.7604619232750833,
          -0.47557436797673247
         ],
         "y": [
          -1.671780494743933,
          -1.7657627848312525
         ],
         "z": [
          -0.2298062873531923,
          -0.227275254053245
         ]
        },
        {
         "line": {
          "color": "red",
          "width": 2
         },
         "mode": "lines",
         "type": "scatter3d",
         "x": [
          -0.5327417444943414,
          -0.5129899342246562
         ],
         "y": [
          -2.0149025156716887,
          -1.71563051899636
         ],
         "z": [
          -0.12807948877960185,
          -0.12128699006811304
         ]
        },
        {
         "line": {
          "color": "green",
          "width": 2
         },
         "mode": "lines",
         "type": "scatter3d",
         "x": [
          -0.5327417444943414,
          -0.5241886209489309
         ],
         "y": [
          -2.0149025156716887,
          -2.0222712169204073
         ],
         "z": [
          -0.12807948877960185,
          0.17170801325067342
         ]
        },
        {
         "line": {
          "color": "blue",
          "width": 2
         },
         "mode": "lines",
         "type": "scatter3d",
         "x": [
          -0.5327417444943414,
          -0.23351489049823704
         ],
         "y": [
          -2.0149025156716887,
          -2.034446678210285
         ],
         "z": [
          -0.12807948877960185,
          -0.13709700722468385
         ]
        },
        {
         "line": {
          "color": "red",
          "width": 2
         },
         "mode": "lines",
         "type": "scatter3d",
         "x": [
          0.21022566908286056,
          0.23639935208464755
         ],
         "y": [
          0.2106159160847258,
          0.5090500382268919
         ],
         "z": [
          0.04115411614402461,
          0.02527916833431444
         ]
        },
        {
         "line": {
          "color": "green",
          "width": 2
         },
         "mode": "lines",
         "type": "scatter3d",
         "x": [
          0.21022566908286056,
          0.20225003634927274
         ],
         "y": [
          0.2106159160847258,
          0.22724346634995948
         ],
         "z": [
          0.04115411614402461,
          0.34058677244020485
         ]
        },
        {
         "line": {
          "color": "blue",
          "width": 2
         },
         "mode": "lines",
         "type": "scatter3d",
         "x": [
          0.21022566908286056,
          0.5089752798102698
         ],
         "y": [
          0.2106159160847258,
          0.18491377211359591
         ],
         "z": [
          0.04115411614402461,
          0.050538799005193515
         ]
        },
        {
         "line": {
          "color": "red",
          "width": 2
         },
         "mode": "lines",
         "type": "scatter3d",
         "x": [
          -0.6977716044092905,
          -0.6914624473468372
         ],
         "y": [
          -0.12421475020188469,
          0.17553191865941994
         ],
         "z": [
          -1.1986694324927276,
          -1.1880803407383627
         ]
        },
        {
         "line": {
          "color": "green",
          "width": 2
         },
         "mode": "lines",
         "type": "scatter3d",
         "x": [
          -0.6977716044092905,
          -0.6094844742966272
         ],
         "y": [
          -0.12421475020188469,
          -0.13619291961816332
         ],
         "z": [
          -1.1986694324927276,
          -0.9122049438176263
         ]
        },
        {
         "line": {
          "color": "blue",
          "width": 2
         },
         "mode": "lines",
         "type": "scatter3d",
         "x": [
          -0.6977716044092905,
          -0.4111262233890533
         ],
         "y": [
          -0.12421475020188469,
          -0.12712297781759524
         ],
         "z": [
          -1.1986694324927276,
          -1.287133917121046
         ]
        },
        {
         "line": {
          "color": "red",
          "width": 2
         },
         "mode": "lines",
         "type": "scatter3d",
         "x": [
          0.7905354248599918,
          0.7953830528609535
         ],
         "y": [
          -0.17084709988066346,
          0.12908780988616528
         ],
         "z": [
          -0.2047810224038143,
          -0.20083761917650925
         ]
        },
        {
         "line": {
          "color": "green",
          "width": 2
         },
         "mode": "lines",
         "type": "scatter3d",
         "x": [
          0.7905354248599918,
          0.8083131925737883
         ],
         "y": [
          -0.17084709988066346,
          -0.17507136475582988
         ],
         "z": [
          -0.2047810224038143,
          0.09466197158883127
         ]
        },
        {
         "line": {
          "color": "blue",
          "width": 2
         },
         "mode": "lines",
         "type": "scatter3d",
         "x": [
          0.7905354248599918,
          1.0899689760366325
         ],
         "y": [
          -0.17084709988066346,
          -0.17545204423214192
         ],
         "z": [
          -0.2047810224038143,
          -0.22262319176109646
         ]
        },
        {
         "line": {
          "color": "red",
          "width": 2
         },
         "mode": "lines",
         "type": "scatter3d",
         "x": [
          0.6456969880613697,
          0.5885335361108831
         ],
         "y": [
          0.2553078073991534,
          0.5461417170671703
         ],
         "z": [
          -0.03130651231741903,
          -0.07765277351294647
         ]
        },
        {
         "line": {
          "color": "green",
          "width": 2
         },
         "mode": "lines",
         "type": "scatter3d",
         "x": [
          0.6456969880613697,
          0.6465438278373346
         ],
         "y": [
          0.2553078073991534,
          0.30268117816581064
         ],
         "z": [
          -0.03130651231741903,
          0.2649282697390659
         ]
        },
        {
         "line": {
          "color": "blue",
          "width": 2
         },
         "mode": "lines",
         "type": "scatter3d",
         "x": [
          0.6456969880613697,
          0.9401993173563532
         ],
         "y": [
          0.2553078073991534,
          0.3116229910317393
         ],
         "z": [
          -0.03130651231741903,
          -0.04115423090607854
         ]
        },
        {
         "line": {
          "color": "red",
          "width": 2
         },
         "mode": "lines",
         "type": "scatter3d",
         "x": [
          -1.4386412771624157,
          -1.4616951103248728
         ],
         "y": [
          0.573138792516839,
          0.868097726440611
         ],
         "z": [
          0.13730951130332888,
          0.08763308610131336
         ]
        },
        {
         "line": {
          "color": "green",
          "width": 2
         },
         "mode": "lines",
         "type": "scatter3d",
         "x": [
          -1.4386412771624157,
          -1.5182149107472118
         ],
         "y": [
          0.573138792516839,
          0.6151192173126294
         ],
         "z": [
          0.13730951130332888,
          0.423501188910815
         ]
        },
        {
         "line": {
          "color": "blue",
          "width": 2
         },
         "mode": "lines",
         "type": "scatter3d",
         "x": [
          -1.4386412771624157,
          -1.150307176605347
         ],
         "y": [
          0.573138792516839,
          0.6083079606106003
         ],
         "z": [
          0.13730951130332888,
          0.21231999125418094
         ]
        },
        {
         "line": {
          "color": "red",
          "width": 2
         },
         "mode": "lines",
         "type": "scatter3d",
         "x": [
          1.536261210786722,
          1.5341247417872537
         ],
         "y": [
          0.13456511256270665,
          0.4329056838757202
         ],
         "z": [
          -0.042891701223274334,
          -0.07432954675647757
         ]
        },
        {
         "line": {
          "color": "green",
          "width": 2
         },
         "mode": "lines",
         "type": "scatter3d",
         "x": [
          1.536261210786722,
          1.532500552508
         ],
         "y": [
          0.13456511256270665,
          0.16597464990194305
         ],
         "z": [
          -0.042891701223274334,
          0.2554357969875184
         ]
        },
        {
         "line": {
          "color": "blue",
          "width": 2
         },
         "mode": "lines",
         "type": "scatter3d",
         "x": [
          1.536261210786722,
          1.836230028471916
         ],
         "y": [
          0.13456511256270665,
          0.13708376435014244
         ],
         "z": [
          -0.042891701223274334,
          -0.039375530014246145
         ]
        },
        {
         "line": {
          "color": "red",
          "width": 2
         },
         "mode": "lines",
         "type": "scatter3d",
         "x": [
          -1.0582799767139335,
          -1.0786210875851454
         ],
         "y": [
          0.20076572478868743,
          0.4991705721667913
         ],
         "z": [
          0.8287701966834833,
          0.8055153735092799
         ]
        },
        {
         "line": {
          "color": "green",
          "width": 2
         },
         "mode": "lines",
         "type": "scatter3d",
         "x": [
          -1.0582799767139335,
          -1.1244597921537167
         ],
         "y": [
          0.20076572478868743,
          0.21901330035826028
         ],
         "z": [
          0.8287701966834833,
          1.120810030643821
         ]
        },
        {
         "line": {
          "color": "blue",
          "width": 2
         },
         "mode": "lines",
         "type": "scatter3d",
         "x": [
          -1.0582799767139335,
          -0.7663784900941047
         ],
         "y": [
          0.20076572478868743,
          0.2256971021968271
         ],
         "z": [
          0.8287701966834833,
          0.8933608702477489
         ]
        },
        {
         "line": {
          "color": "red",
          "width": 2
         },
         "mode": "lines",
         "type": "scatter3d",
         "x": [
          -0.25797413059720586,
          -0.21914644248574855
         ],
         "y": [
          -1.3806943053751024,
          -1.0976641004582146
         ],
         "z": [
          0.18078699207914092,
          0.272363834099368
         ]
        },
        {
         "line": {
          "color": "green",
          "width": 2
         },
         "mode": "lines",
         "type": "scatter3d",
         "x": [
          -0.25797413059720586,
          -0.3078069880667601
         ],
         "y": [
          -1.3806943053751024,
          -1.4655543903801211
         ],
         "z": [
          0.18078699207914092,
          0.4641868124373665
         ]
        },
        {
         "line": {
          "color": "blue",
          "width": 2
         },
         "mode": "lines",
         "type": "scatter3d",
         "x": [
          -0.25797413059720586,
          0.03529895104379566
         ],
         "y": [
          -1.3806943053751024,
          -1.4325852809468378
         ],
         "z": [
          0.18078699207914092,
          0.21681794182481537
         ]
        },
        {
         "line": {
          "color": "red",
          "width": 2
         },
         "mode": "lines",
         "type": "scatter3d",
         "x": [
          -0.19494549259924288,
          -0.21008909489612226
         ],
         "y": [
          1.254284627380279,
          1.5390127839580825
         ],
         "z": [
          0.5782573677095753,
          0.48498062784683815
         ]
        },
        {
         "line": {
          "color": "green",
          "width": 2
         },
         "mode": "lines",
         "type": "scatter3d",
         "x": [
          -0.19494549259924288,
          -0.2569006363105163
         ],
         "y": [
          1.254284627380279,
          1.3426861094639226
         ],
         "z": [
          0.5782573677095753,
          0.8581622480665316
         ]
        },
        {
         "line": {
          "color": "blue",
          "width": 2
         },
         "mode": "lines",
         "type": "scatter3d",
         "x": [
          -0.19494549259924288,
          0.09819650989771261
         ],
         "y": [
          1.254284627380279,
          1.287677094202212
         ],
         "z": [
          0.5782573677095753,
          0.6325962263036645
         ]
        },
        {
         "line": {
          "color": "red",
          "width": 2
         },
         "mode": "lines",
         "type": "scatter3d",
         "x": [
          -1.671244480262553,
          -1.6397981916046915
         ],
         "y": [
          0.3846553143884356,
          0.6830025189307072
         ],
         "z": [
          0.98706067937305,
          0.9873368352217299
         ]
        },
        {
         "line": {
          "color": "green",
          "width": 2
         },
         "mode": "lines",
         "type": "scatter3d",
         "x": [
          -1.671244480262553,
          -1.791313925684965
         ],
         "y": [
          0.3846553143884356,
          0.39705661968536415
         ],
         "z": [
          0.98706067937305,
          1.2617050517660047
         ]
        },
        {
         "line": {
          "color": "blue",
          "width": 2
         },
         "mode": "lines",
         "type": "scatter3d",
         "x": [
          -1.671244480262553,
          -1.3981246267377052
         ],
         "y": [
          0.3846553143884356,
          0.3557563010678325
         ],
         "z": [
          0.98706067937305,
          1.1077685408342512
         ]
        },
        {
         "line": {
          "color": "red",
          "width": 2
         },
         "mode": "lines",
         "type": "scatter3d",
         "x": [
          -0.8801241376795406,
          -0.8457749580666216
         ],
         "y": [
          0.2849875795955406,
          0.5829776140978391
         ],
         "z": [
          1.5443990071279734,
          1.5490972034351551
         ]
        },
        {
         "line": {
          "color": "green",
          "width": 2
         },
         "mode": "lines",
         "type": "scatter3d",
         "x": [
          -0.8801241376795406,
          -0.9533363529698443
         ],
         "y": [
          0.2849875795955406,
          0.28884024517019596
         ],
         "z": [
          1.5443990071279734,
          1.8353029899556177
         ]
        },
        {
         "line": {
          "color": "blue",
          "width": 2
         },
         "mode": "lines",
         "type": "scatter3d",
         "x": [
          -0.8801241376795406,
          -0.5912295133442458
         ],
         "y": [
          0.2849875795955406,
          0.2505333177269539
         ],
         "z": [
          1.5443990071279734,
          1.6175618286185756
         ]
        },
        {
         "line": {
          "color": "red",
          "width": 2
         },
         "mode": "lines",
         "type": "scatter3d",
         "x": [
          -1.3416062254436913,
          -1.3101815081517714
         ],
         "y": [
          -1.0641290189528634,
          -0.7658961513407243
         ],
         "z": [
          0.29745949365636537,
          0.2891142643001899
         ]
        },
        {
         "line": {
          "color": "green",
          "width": 2
         },
         "mode": "lines",
         "type": "scatter3d",
         "x": [
          -1.3416062254436913,
          -1.354555077218235
         ],
         "y": [
          -1.0641290189528634,
          -1.0543821791515928
         ],
         "z": [
          0.29745949365636537,
          0.5970213811923373
         ]
        },
        {
         "line": {
          "color": "blue",
          "width": 2
         },
         "mode": "lines",
         "type": "scatter3d",
         "x": [
          -1.3416062254436913,
          -1.0435377574255744
         ],
         "y": [
          -1.0641290189528634,
          -1.0951476398218833
         ],
         "z": [
          0.29745949365636537,
          0.3113530437859084
         ]
        },
        {
         "line": {
          "color": "red",
          "width": 2
         },
         "mode": "lines",
         "type": "scatter3d",
         "x": [
          0.47681872483290455,
          0.4604681326231799
         ],
         "y": [
          2.511950493024016,
          2.81101067167549
         ],
         "z": [
          -0.12260334992595771,
          -0.10540834938120601
         ]
        },
        {
         "line": {
          "color": "green",
          "width": 2
         },
         "mode": "lines",
         "type": "scatter3d",
         "x": [
          0.47681872483290455,
          0.5394569350827302
         ],
         "y": [
          2.511950493024016,
          2.49852393797223
         ],
         "z": [
          -0.12260334992595771,
          0.17047715597652602
         ]
        },
        {
         "line": {
          "color": "blue",
          "width": 2
         },
         "mode": "lines",
         "type": "scatter3d",
         "x": [
          0.47681872483290455,
          0.7697506511371359
         ],
         "y": [
          2.511950493024016,
          2.5315141716714833
         ],
         "z": [
          -0.12260334992595771,
          -0.18431355786434367
         ]
        },
        {
         "line": {
          "color": "red",
          "width": 2
         },
         "mode": "lines",
         "type": "scatter3d",
         "x": [
          0.4742387740842222,
          0.5674068755582996
         ],
         "y": [
          -0.7223905035758879,
          -0.4459699168321713
         ],
         "z": [
          -0.422347690945012,
          -0.35226647377759696
         ]
        },
        {
         "line": {
          "color": "green",
          "width": 2
         },
         "mode": "lines",
         "type": "scatter3d",
         "x": [
          0.4742387740842222,
          0.4689490544200761
         ],
         "y": [
          -0.7223905035758879,
          -0.7944293260089026
         ],
         "z": [
          -0.422347690945012,
          -0.1311734594635952
         ]
        },
        {
         "line": {
          "color": "blue",
          "width": 2
         },
         "mode": "lines",
         "type": "scatter3d",
         "x": [
          0.4742387740842222,
          0.7593558257022028
         ],
         "y": [
          -0.7223905035758879,
          -0.8140533651359099
         ],
         "z": [
          -0.422347690945012,
          -0.43984611077511865
         ]
        },
        {
         "line": {
          "color": "red",
          "width": 2
         },
         "mode": "lines",
         "type": "scatter3d",
         "x": [
          1.540549562811596,
          1.5135195060816917
         ],
         "y": [
          -0.31284568913763444,
          -0.01406720819614199
         ],
         "z": [
          0.6464113684707339,
          0.6473028765337889
         ]
        },
        {
         "line": {
          "color": "green",
          "width": 2
         },
         "mode": "lines",
         "type": "scatter3d",
         "x": [
          1.540549562811596,
          1.530469757587192
         ],
         "y": [
          -0.31284568913763444,
          -0.31465222903406725
         ],
         "z": [
          0.6464113684707339,
          0.946236537936052
         ]
        },
        {
         "line": {
          "color": "blue",
          "width": 2
         },
         "mode": "lines",
         "type": "scatter3d",
         "x": [
          1.540549562811596,
          1.8391592935821914
         ],
         "y": [
          -0.31284568913763444,
          -0.28586133894021376
         ],
         "z": [
          0.6464113684707339,
          0.6566129011368155
         ]
        }
       ],
       "layout": {
        "template": {
         "data": {
          "bar": [
           {
            "error_x": {
             "color": "#2a3f5f"
            },
            "error_y": {
             "color": "#2a3f5f"
            },
            "marker": {
             "line": {
              "color": "#E5ECF6",
              "width": 0.5
             },
             "pattern": {
              "fillmode": "overlay",
              "size": 10,
              "solidity": 0.2
             }
            },
            "type": "bar"
           }
          ],
          "barpolar": [
           {
            "marker": {
             "line": {
              "color": "#E5ECF6",
              "width": 0.5
             },
             "pattern": {
              "fillmode": "overlay",
              "size": 10,
              "solidity": 0.2
             }
            },
            "type": "barpolar"
           }
          ],
          "carpet": [
           {
            "aaxis": {
             "endlinecolor": "#2a3f5f",
             "gridcolor": "white",
             "linecolor": "white",
             "minorgridcolor": "white",
             "startlinecolor": "#2a3f5f"
            },
            "baxis": {
             "endlinecolor": "#2a3f5f",
             "gridcolor": "white",
             "linecolor": "white",
             "minorgridcolor": "white",
             "startlinecolor": "#2a3f5f"
            },
            "type": "carpet"
           }
          ],
          "choropleth": [
           {
            "colorbar": {
             "outlinewidth": 0,
             "ticks": ""
            },
            "type": "choropleth"
           }
          ],
          "contour": [
           {
            "colorbar": {
             "outlinewidth": 0,
             "ticks": ""
            },
            "colorscale": [
             [
              0,
              "#0d0887"
             ],
             [
              0.1111111111111111,
              "#46039f"
             ],
             [
              0.2222222222222222,
              "#7201a8"
             ],
             [
              0.3333333333333333,
              "#9c179e"
             ],
             [
              0.4444444444444444,
              "#bd3786"
             ],
             [
              0.5555555555555556,
              "#d8576b"
             ],
             [
              0.6666666666666666,
              "#ed7953"
             ],
             [
              0.7777777777777778,
              "#fb9f3a"
             ],
             [
              0.8888888888888888,
              "#fdca26"
             ],
             [
              1,
              "#f0f921"
             ]
            ],
            "type": "contour"
           }
          ],
          "contourcarpet": [
           {
            "colorbar": {
             "outlinewidth": 0,
             "ticks": ""
            },
            "type": "contourcarpet"
           }
          ],
          "heatmap": [
           {
            "colorbar": {
             "outlinewidth": 0,
             "ticks": ""
            },
            "colorscale": [
             [
              0,
              "#0d0887"
             ],
             [
              0.1111111111111111,
              "#46039f"
             ],
             [
              0.2222222222222222,
              "#7201a8"
             ],
             [
              0.3333333333333333,
              "#9c179e"
             ],
             [
              0.4444444444444444,
              "#bd3786"
             ],
             [
              0.5555555555555556,
              "#d8576b"
             ],
             [
              0.6666666666666666,
              "#ed7953"
             ],
             [
              0.7777777777777778,
              "#fb9f3a"
             ],
             [
              0.8888888888888888,
              "#fdca26"
             ],
             [
              1,
              "#f0f921"
             ]
            ],
            "type": "heatmap"
           }
          ],
          "heatmapgl": [
           {
            "colorbar": {
             "outlinewidth": 0,
             "ticks": ""
            },
            "colorscale": [
             [
              0,
              "#0d0887"
             ],
             [
              0.1111111111111111,
              "#46039f"
             ],
             [
              0.2222222222222222,
              "#7201a8"
             ],
             [
              0.3333333333333333,
              "#9c179e"
             ],
             [
              0.4444444444444444,
              "#bd3786"
             ],
             [
              0.5555555555555556,
              "#d8576b"
             ],
             [
              0.6666666666666666,
              "#ed7953"
             ],
             [
              0.7777777777777778,
              "#fb9f3a"
             ],
             [
              0.8888888888888888,
              "#fdca26"
             ],
             [
              1,
              "#f0f921"
             ]
            ],
            "type": "heatmapgl"
           }
          ],
          "histogram": [
           {
            "marker": {
             "pattern": {
              "fillmode": "overlay",
              "size": 10,
              "solidity": 0.2
             }
            },
            "type": "histogram"
           }
          ],
          "histogram2d": [
           {
            "colorbar": {
             "outlinewidth": 0,
             "ticks": ""
            },
            "colorscale": [
             [
              0,
              "#0d0887"
             ],
             [
              0.1111111111111111,
              "#46039f"
             ],
             [
              0.2222222222222222,
              "#7201a8"
             ],
             [
              0.3333333333333333,
              "#9c179e"
             ],
             [
              0.4444444444444444,
              "#bd3786"
             ],
             [
              0.5555555555555556,
              "#d8576b"
             ],
             [
              0.6666666666666666,
              "#ed7953"
             ],
             [
              0.7777777777777778,
              "#fb9f3a"
             ],
             [
              0.8888888888888888,
              "#fdca26"
             ],
             [
              1,
              "#f0f921"
             ]
            ],
            "type": "histogram2d"
           }
          ],
          "histogram2dcontour": [
           {
            "colorbar": {
             "outlinewidth": 0,
             "ticks": ""
            },
            "colorscale": [
             [
              0,
              "#0d0887"
             ],
             [
              0.1111111111111111,
              "#46039f"
             ],
             [
              0.2222222222222222,
              "#7201a8"
             ],
             [
              0.3333333333333333,
              "#9c179e"
             ],
             [
              0.4444444444444444,
              "#bd3786"
             ],
             [
              0.5555555555555556,
              "#d8576b"
             ],
             [
              0.6666666666666666,
              "#ed7953"
             ],
             [
              0.7777777777777778,
              "#fb9f3a"
             ],
             [
              0.8888888888888888,
              "#fdca26"
             ],
             [
              1,
              "#f0f921"
             ]
            ],
            "type": "histogram2dcontour"
           }
          ],
          "mesh3d": [
           {
            "colorbar": {
             "outlinewidth": 0,
             "ticks": ""
            },
            "type": "mesh3d"
           }
          ],
          "parcoords": [
           {
            "line": {
             "colorbar": {
              "outlinewidth": 0,
              "ticks": ""
             }
            },
            "type": "parcoords"
           }
          ],
          "pie": [
           {
            "automargin": true,
            "type": "pie"
           }
          ],
          "scatter": [
           {
            "fillpattern": {
             "fillmode": "overlay",
             "size": 10,
             "solidity": 0.2
            },
            "type": "scatter"
           }
          ],
          "scatter3d": [
           {
            "line": {
             "colorbar": {
              "outlinewidth": 0,
              "ticks": ""
             }
            },
            "marker": {
             "colorbar": {
              "outlinewidth": 0,
              "ticks": ""
             }
            },
            "type": "scatter3d"
           }
          ],
          "scattercarpet": [
           {
            "marker": {
             "colorbar": {
              "outlinewidth": 0,
              "ticks": ""
             }
            },
            "type": "scattercarpet"
           }
          ],
          "scattergeo": [
           {
            "marker": {
             "colorbar": {
              "outlinewidth": 0,
              "ticks": ""
             }
            },
            "type": "scattergeo"
           }
          ],
          "scattergl": [
           {
            "marker": {
             "colorbar": {
              "outlinewidth": 0,
              "ticks": ""
             }
            },
            "type": "scattergl"
           }
          ],
          "scattermapbox": [
           {
            "marker": {
             "colorbar": {
              "outlinewidth": 0,
              "ticks": ""
             }
            },
            "type": "scattermapbox"
           }
          ],
          "scatterpolar": [
           {
            "marker": {
             "colorbar": {
              "outlinewidth": 0,
              "ticks": ""
             }
            },
            "type": "scatterpolar"
           }
          ],
          "scatterpolargl": [
           {
            "marker": {
             "colorbar": {
              "outlinewidth": 0,
              "ticks": ""
             }
            },
            "type": "scatterpolargl"
           }
          ],
          "scatterternary": [
           {
            "marker": {
             "colorbar": {
              "outlinewidth": 0,
              "ticks": ""
             }
            },
            "type": "scatterternary"
           }
          ],
          "surface": [
           {
            "colorbar": {
             "outlinewidth": 0,
             "ticks": ""
            },
            "colorscale": [
             [
              0,
              "#0d0887"
             ],
             [
              0.1111111111111111,
              "#46039f"
             ],
             [
              0.2222222222222222,
              "#7201a8"
             ],
             [
              0.3333333333333333,
              "#9c179e"
             ],
             [
              0.4444444444444444,
              "#bd3786"
             ],
             [
              0.5555555555555556,
              "#d8576b"
             ],
             [
              0.6666666666666666,
              "#ed7953"
             ],
             [
              0.7777777777777778,
              "#fb9f3a"
             ],
             [
              0.8888888888888888,
              "#fdca26"
             ],
             [
              1,
              "#f0f921"
             ]
            ],
            "type": "surface"
           }
          ],
          "table": [
           {
            "cells": {
             "fill": {
              "color": "#EBF0F8"
             },
             "line": {
              "color": "white"
             }
            },
            "header": {
             "fill": {
              "color": "#C8D4E3"
             },
             "line": {
              "color": "white"
             }
            },
            "type": "table"
           }
          ]
         },
         "layout": {
          "annotationdefaults": {
           "arrowcolor": "#2a3f5f",
           "arrowhead": 0,
           "arrowwidth": 1
          },
          "autotypenumbers": "strict",
          "coloraxis": {
           "colorbar": {
            "outlinewidth": 0,
            "ticks": ""
           }
          },
          "colorscale": {
           "diverging": [
            [
             0,
             "#8e0152"
            ],
            [
             0.1,
             "#c51b7d"
            ],
            [
             0.2,
             "#de77ae"
            ],
            [
             0.3,
             "#f1b6da"
            ],
            [
             0.4,
             "#fde0ef"
            ],
            [
             0.5,
             "#f7f7f7"
            ],
            [
             0.6,
             "#e6f5d0"
            ],
            [
             0.7,
             "#b8e186"
            ],
            [
             0.8,
             "#7fbc41"
            ],
            [
             0.9,
             "#4d9221"
            ],
            [
             1,
             "#276419"
            ]
           ],
           "sequential": [
            [
             0,
             "#0d0887"
            ],
            [
             0.1111111111111111,
             "#46039f"
            ],
            [
             0.2222222222222222,
             "#7201a8"
            ],
            [
             0.3333333333333333,
             "#9c179e"
            ],
            [
             0.4444444444444444,
             "#bd3786"
            ],
            [
             0.5555555555555556,
             "#d8576b"
            ],
            [
             0.6666666666666666,
             "#ed7953"
            ],
            [
             0.7777777777777778,
             "#fb9f3a"
            ],
            [
             0.8888888888888888,
             "#fdca26"
            ],
            [
             1,
             "#f0f921"
            ]
           ],
           "sequentialminus": [
            [
             0,
             "#0d0887"
            ],
            [
             0.1111111111111111,
             "#46039f"
            ],
            [
             0.2222222222222222,
             "#7201a8"
            ],
            [
             0.3333333333333333,
             "#9c179e"
            ],
            [
             0.4444444444444444,
             "#bd3786"
            ],
            [
             0.5555555555555556,
             "#d8576b"
            ],
            [
             0.6666666666666666,
             "#ed7953"
            ],
            [
             0.7777777777777778,
             "#fb9f3a"
            ],
            [
             0.8888888888888888,
             "#fdca26"
            ],
            [
             1,
             "#f0f921"
            ]
           ]
          },
          "colorway": [
           "#636efa",
           "#EF553B",
           "#00cc96",
           "#ab63fa",
           "#FFA15A",
           "#19d3f3",
           "#FF6692",
           "#B6E880",
           "#FF97FF",
           "#FECB52"
          ],
          "font": {
           "color": "#2a3f5f"
          },
          "geo": {
           "bgcolor": "white",
           "lakecolor": "white",
           "landcolor": "#E5ECF6",
           "showlakes": true,
           "showland": true,
           "subunitcolor": "white"
          },
          "hoverlabel": {
           "align": "left"
          },
          "hovermode": "closest",
          "mapbox": {
           "style": "light"
          },
          "paper_bgcolor": "white",
          "plot_bgcolor": "#E5ECF6",
          "polar": {
           "angularaxis": {
            "gridcolor": "white",
            "linecolor": "white",
            "ticks": ""
           },
           "bgcolor": "#E5ECF6",
           "radialaxis": {
            "gridcolor": "white",
            "linecolor": "white",
            "ticks": ""
           }
          },
          "scene": {
           "xaxis": {
            "backgroundcolor": "#E5ECF6",
            "gridcolor": "white",
            "gridwidth": 2,
            "linecolor": "white",
            "showbackground": true,
            "ticks": "",
            "zerolinecolor": "white"
           },
           "yaxis": {
            "backgroundcolor": "#E5ECF6",
            "gridcolor": "white",
            "gridwidth": 2,
            "linecolor": "white",
            "showbackground": true,
            "ticks": "",
            "zerolinecolor": "white"
           },
           "zaxis": {
            "backgroundcolor": "#E5ECF6",
            "gridcolor": "white",
            "gridwidth": 2,
            "linecolor": "white",
            "showbackground": true,
            "ticks": "",
            "zerolinecolor": "white"
           }
          },
          "shapedefaults": {
           "line": {
            "color": "#2a3f5f"
           }
          },
          "ternary": {
           "aaxis": {
            "gridcolor": "white",
            "linecolor": "white",
            "ticks": ""
           },
           "baxis": {
            "gridcolor": "white",
            "linecolor": "white",
            "ticks": ""
           },
           "bgcolor": "#E5ECF6",
           "caxis": {
            "gridcolor": "white",
            "linecolor": "white",
            "ticks": ""
           }
          },
          "title": {
           "x": 0.05
          },
          "xaxis": {
           "automargin": true,
           "gridcolor": "white",
           "linecolor": "white",
           "ticks": "",
           "title": {
            "standoff": 15
           },
           "zerolinecolor": "white",
           "zerolinewidth": 2
          },
          "yaxis": {
           "automargin": true,
           "gridcolor": "white",
           "linecolor": "white",
           "ticks": "",
           "title": {
            "standoff": 15
           },
           "zerolinecolor": "white",
           "zerolinewidth": 2
          }
         }
        }
       }
      }
     },
     "metadata": {},
     "output_type": "display_data"
    }
   ],
   "source": [
    "poses_colmap_aboba = poses_colmap.copy()\n",
    "poses_colmap_aboba[:, :3, 3] -= poses_colmap_aboba[:, :3, 3].mean(axis=0)\n",
    "\n",
    "poses_my_aboba = poses_my.copy()\n",
    "poses_my_aboba[:, :3, 3] -= poses_my_aboba[:, :3, 3].mean(axis=0)\n",
    "\n",
    "fig1 = plot_poses(poses_my_aboba, k=0.3, text=poses_my_names, fontsize=8, marker_color=\"red\")\n",
    "fig2 = plot_poses(poses_colmap_aboba, k=0.3, text=poses_colmap_names, fontsize=8, marker_color=\"blue\")\n",
    "fig = go.Figure(data = fig1.data + fig2.data)\n",
    "fig.show()"
   ]
  },
  {
   "cell_type": "code",
   "execution_count": 143,
   "metadata": {},
   "outputs": [],
   "source": [
    "def draw_registration_result(source, target, transformation):\n",
    "    source_temp = copy.deepcopy(source)\n",
    "    target_temp = copy.deepcopy(target)\n",
    "    source_temp.paint_uniform_color([1, 0.706, 0])\n",
    "    target_temp.paint_uniform_color([0, 0.651, 0.929])\n",
    "    source_temp.transform(transformation)\n",
    "    o3d.visualization.draw_geometries([source_temp, target_temp])"
   ]
  },
  {
   "cell_type": "code",
   "execution_count": 294,
   "metadata": {},
   "outputs": [
    {
     "name": "stdout",
     "output_type": "stream",
     "text": [
      "Initial alignment\n",
      "RegistrationResult with fitness=5.250000e-01, inlier_rmse=6.378629e-02, and correspondence_set size of 21\n",
      "Access transformation to get result.\n",
      "Apply point-to-point ICP\n",
      "RegistrationResult with fitness=1.000000e+00, inlier_rmse=3.634803e-02, and correspondence_set size of 40\n",
      "Access transformation to get result.\n",
      "Transformation is:\n",
      "[[ 9.96679045e-01  8.08520314e-02  9.68664573e-03  3.46243128e-05]\n",
      " [-8.07084612e-02  9.96633804e-01 -1.43946184e-02  1.18409154e-03]\n",
      " [-1.08178727e-02  1.35650202e-02  9.99849471e-01 -7.96354290e-05]\n",
      " [ 0.00000000e+00  0.00000000e+00  0.00000000e+00  1.00000000e+00]]\n"
     ]
    }
   ],
   "source": [
    "source = o3d.io.read_point_cloud(\"./my.pcd\")\n",
    "target = o3d.io.read_point_cloud(\"./colmap.pcd\")\n",
    "threshold = 0.1\n",
    "\n",
    "trans_init = np.eye(4)\n",
    "# trans_init[:3, :3] = scipy.spatial.transform.Rotation.random().as_matrix()\n",
    "# draw_registration_result(source, target, trans_init)\n",
    "print(\"Initial alignment\")\n",
    "evaluation = o3d.pipelines.registration.evaluate_registration(source, target,\n",
    "                                                    threshold, trans_init)\n",
    "print(evaluation)\n",
    "\n",
    "print(\"Apply point-to-point ICP\")\n",
    "reg_p2p = o3d.pipelines.registration.registration_icp(\n",
    "    source, target, threshold, trans_init,\n",
    "    o3d.pipelines.registration.TransformationEstimationPointToPoint(),\n",
    "    o3d.pipelines.registration.ICPConvergenceCriteria(max_iteration=500000))\n",
    "print(reg_p2p)\n",
    "print(\"Transformation is:\")\n",
    "print(reg_p2p.transformation)\n",
    "draw_registration_result(source, target, reg_p2p.transformation)\n",
    "\n",
    "# source_temp = copy.deepcopy(source)\n",
    "# target_temp = copy.deepcopy(target)\n",
    "# source_temp.paint_uniform_color([1, 0.706, 0])\n",
    "# target_temp.paint_uniform_color([0, 0.651, 0.929])\n",
    "# source_temp.transform(reg_p2p.transformation)\n",
    "\n",
    "# plot_poses(np.asarray(source_temp.points), k=0.3, text=poses_my_names, fontsize=8, only_points=True)\n",
    "# plot_poses(np.asarray(target.points), k=0.3, text=poses_colmap_names, fontsize=8, only_points=True)"
   ]
  },
  {
   "cell_type": "code",
   "execution_count": null,
   "metadata": {},
   "outputs": [],
   "source": [
    "# plot_poses(np.asarray(source_temp.points), k=0.3, text=poses_my_names, fontsize=8, only_points=True)"
   ]
  },
  {
   "cell_type": "markdown",
   "metadata": {},
   "source": [
    "### Посмотрим на преобразования, которые совершаются"
   ]
  },
  {
   "cell_type": "code",
   "execution_count": null,
   "metadata": {},
   "outputs": [],
   "source": [
    "# pose0 = np.eye(4)[None, ...]\n",
    "# pose0[:, 0:3, 3] = [1.0, 2.0, 3.0]\n",
    "\n",
    "pose1 = np.eye(4)[None, ...]\n",
    "pose1[:, 0:3, 3] = [1.0, 2.0, 3.0]\n",
    "# flip axes\n",
    "pose1[:, 0:3, 1] *= -1\n",
    "pose1[:, 0:3, 2] *= -1\n",
    "\n",
    "pose2 = np.eye(4)[None, ...]\n",
    "pose2[:, 0:3, 3] = [1.0, 2.0, 3.0]\n",
    "# flip axes\n",
    "pose2[:, 0:3, 1] *= -1\n",
    "pose2[:, 0:3, 2] *= -1\n",
    "# swap\n",
    "pose2 = pose2[:, [1, 0, 2, 3], :] # swap y and z\n",
    "\n",
    "pose3 = np.eye(4)[None, ...]\n",
    "pose3[:, 0:3, 3] = [1.0, 2.0, 3.0]\n",
    "# flip axes\n",
    "pose3[:, 0:3, 1] *= -1\n",
    "pose3[:, 0:3, 2] *= -1\n",
    "# swap\n",
    "pose3 = pose3[:, [1, 0, 2, 3], :] # swap y and z\n",
    "pose3[:, 2, :] *= -1 # flip whole world upside down\n",
    "\n",
    "# poses = np.stack([pose0, pose1, pose2, pose3])[:, 0, :, :]\n",
    "poses = np.stack([pose1, pose2, pose3])[:, 0, :, :]\n",
    "\n",
    "# fig = plot_poses(poses, k=0.5, text=[\"begin\", \"flip camera\", \"swap\", \"flip world\"])\n",
    "fig = plot_poses(poses, k=0.5, text=[\"flip camera\", \"swap\", \"flip world\"])\n",
    "fig.update_layout(\n",
    "    scene=dict(\n",
    "        xaxis = dict(range=[-3,3],),\n",
    "        yaxis = dict(range=[-3,3],),\n",
    "        zaxis = dict(range=[-3,3],),\n",
    "    )\n",
    ")\n",
    "fig.show()"
   ]
  },
  {
   "cell_type": "code",
   "execution_count": 132,
   "metadata": {},
   "outputs": [
    {
     "data": {
      "text/plain": [
       "(3, 4, 4)"
      ]
     },
     "execution_count": 132,
     "metadata": {},
     "output_type": "execute_result"
    }
   ],
   "source": [
    "np.stack([pose0, pose1, pose2])[:, 0, :, :].shape"
   ]
  },
  {
   "cell_type": "code",
   "execution_count": 313,
   "metadata": {},
   "outputs": [
    {
     "data": {
      "text/plain": [
       "array([[1., 1., 1., 1.],\n",
       "       [1., 1., 1., 1.],\n",
       "       [1., 1., 1., 1.],\n",
       "       [1., 1., 1., 1.],\n",
       "       [1., 1., 1., 1.],\n",
       "       [0., 0., 0., 0.],\n",
       "       [0., 0., 0., 0.],\n",
       "       [0., 0., 0., 0.],\n",
       "       [0., 0., 0., 0.],\n",
       "       [0., 0., 0., 0.],\n",
       "       [1., 1., 1., 1.],\n",
       "       [1., 1., 1., 1.],\n",
       "       [1., 1., 1., 1.],\n",
       "       [1., 1., 1., 1.],\n",
       "       [1., 1., 1., 1.]])"
      ]
     },
     "execution_count": 313,
     "metadata": {},
     "output_type": "execute_result"
    }
   ],
   "source": [
    "xxx = []\n",
    "xxx.append(np.ones((5, 4)))\n",
    "xxx.append(np.zeros((5, 4)))\n",
    "xxx.append(np.ones((5, 4)))\n",
    "np.vstack(xxx)"
   ]
  },
  {
   "cell_type": "code",
   "execution_count": null,
   "metadata": {},
   "outputs": [],
   "source": []
  }
 ],
 "metadata": {
  "kernelspec": {
   "display_name": "Python 3.8.10 64-bit",
   "language": "python",
   "name": "python3"
  },
  "language_info": {
   "codemirror_mode": {
    "name": "ipython",
    "version": 3
   },
   "file_extension": ".py",
   "mimetype": "text/x-python",
   "name": "python",
   "nbconvert_exporter": "python",
   "pygments_lexer": "ipython3",
   "version": "3.8.10"
  },
  "orig_nbformat": 4,
  "vscode": {
   "interpreter": {
    "hash": "31f2aee4e71d21fbe5cf8b01ff0e069b9275f58929596ceb00d14d90e3e16cd6"
   }
  }
 },
 "nbformat": 4,
 "nbformat_minor": 2
}
